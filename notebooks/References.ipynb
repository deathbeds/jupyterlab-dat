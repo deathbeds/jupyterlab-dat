{
 "cells": [
  {
   "cell_type": "markdown",
   "metadata": {},
   "source": [
    "# Upstreams"
   ]
  },
  {
   "cell_type": "markdown",
   "metadata": {},
   "source": [
    "## [@datproject/sdk](https://github.com/datproject/sdk)\n",
    "- [Promise API](https://github.com/datproject/sdk/blob/master/promise.js)"
   ]
  },
  {
   "cell_type": "markdown",
   "metadata": {},
   "source": [
    "## [@mafintosh/hyperdrive](https://github.com/mafintosh/hyperdrive)\n",
    "\n",
    "- [hyperdrive options](https://github.com/mafintosh/hyperdrive/blob/f75c85b84a1942ac35731cfe3beb02372eb4acf9/index.js#L43-L80)"
   ]
  },
  {
   "cell_type": "markdown",
   "metadata": {},
   "source": [
    "## [@jupyterlab/jupyterlab](https://github.com/jupyterlab/jupyterlab)\n",
    "- [notebook actions](https://github.com/jupyterlab/jupyterlab/blob/master/packages/notebook/src/actions.tsx)"
   ]
  },
  {
   "cell_type": "markdown",
   "metadata": {},
   "source": [
    "## [@Kriesse/dat-icons](https://github.com/Kriesse/dat-icons)\n",
    "- [icon names](https://github.com/Kriesse/dat-icons#icon-names)"
   ]
  },
  {
   "cell_type": "code",
   "execution_count": null,
   "metadata": {},
   "outputs": [],
   "source": []
  }
 ],
 "metadata": {
  "kernelspec": {
   "display_name": "Python 3",
   "language": "python",
   "name": "python3"
  },
  "language_info": {
   "codemirror_mode": {
    "name": "ipython",
    "version": 3
   },
   "file_extension": ".py",
   "mimetype": "text/x-python",
   "name": "python",
   "nbconvert_exporter": "python",
   "pygments_lexer": "ipython3",
   "version": "3.7.3"
  },
  "toc-autonumbering": true,
  "toc-showcode": false,
  "toc-showmarkdowntxt": false,
  "widgets": {
   "application/vnd.jupyter.widget-state+json": {
    "state": {},
    "version_major": 2,
    "version_minor": 0
   }
  }
 },
 "nbformat": 4,
 "nbformat_minor": 4
}
