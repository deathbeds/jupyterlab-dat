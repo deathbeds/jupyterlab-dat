{
 "cells": [
  {
   "cell_type": "markdown",
   "metadata": {},
   "source": [
    "# A Visual Check for Dat URLs\n",
    "Missing a few characters here or there means no fun with dat. How might we create a robust visual identity for dat urls?"
   ]
  },
  {
   "cell_type": "code",
   "execution_count": null,
   "metadata": {},
   "outputs": [],
   "source": [
    "import hashlib, ipywidgets as W, jinja2, IPython"
   ]
  },
  {
   "cell_type": "code",
   "execution_count": null,
   "metadata": {},
   "outputs": [],
   "source": [
    "dat = \"fb6b8ca671edacc943d5ac8b8067f1b15614461780fa45aa8f7c8f183c5fbe59\""
   ]
  },
  {
   "cell_type": "code",
   "execution_count": 3,
   "metadata": {},
   "outputs": [
    {
     "data": {
      "application/vnd.jupyter.widget-view+json": {
       "model_id": "1d590738a374496c82ba08752fddd6a9",
       "version_major": 2,
       "version_minor": 0
      },
      "text/plain": [
       "interactive(children=(Text(value='fb6b8ca671edacc943d5ac8b8067f1b15614461780fa45aa8f7c8f183c5fbe59', descripti…"
      ]
     },
     "metadata": {},
     "output_type": "display_data"
    }
   ],
   "source": [
    "@W.interact\n",
    "def icon(dat=dat, c=(1, 20), r=(1, 20), p=(0, 100), e=(3, 6, 3)):\n",
    "    sha = hashlib.sha256(dat.encode(\"utf-8\")).hexdigest()\n",
    "    colors = []\n",
    "    def f(hex, i, j):\n",
    "        b = (i + (j * c)) * e\n",
    "        o = hex[b:b+e]\n",
    "        colors.append(o)\n",
    "        return o\n",
    "    tmpl = jinja2.Template(\"\"\"\n",
    "    <svg width=\"{{ c * p}}\" height=\"{{ r * p}}\">\n",
    "        {% for j in range(r) %}\n",
    "            {% for i in range(c) %}\n",
    "                <rect x=\"{{ i * p }}\" y=\"{{ j * p }}\" width=\"{{p}}\" height=\"{{p}}\" \n",
    "                    fill=\"#{{ f(hex, i, j) }}\"/>\n",
    "            {% endfor %}\n",
    "        {% endfor %}\n",
    "    </svg>\n",
    "    \"\"\")\n",
    "    IPython.display.display(IPython.display.HTML(tmpl.render(hex=sha, c=c, p=p, e=e, f=f, r=r)))\n",
    "    print(sha)\n",
    "    print(\"\".join(colors))\n",
    "    print(colors)"
   ]
  },
  {
   "cell_type": "code",
   "execution_count": 4,
   "metadata": {},
   "outputs": [
    {
     "data": {
      "text/plain": [
       "'b94'"
      ]
     },
     "execution_count": 4,
     "metadata": {},
     "output_type": "execute_result"
    }
   ],
   "source": [
    "\"ae6b94c2de682f8ff5b8ec0d4eb2f26f47dd2bc082a8d9a577b57d01a303efce\"[3:6]"
   ]
  },
  {
   "cell_type": "code",
   "execution_count": null,
   "metadata": {},
   "outputs": [],
   "source": []
  }
 ],
 "metadata": {
  "kernelspec": {
   "display_name": "Python 3",
   "language": "python",
   "name": "python3"
  },
  "language_info": {
   "codemirror_mode": {
    "name": "ipython",
    "version": 3
   },
   "file_extension": ".py",
   "mimetype": "text/x-python",
   "name": "python",
   "nbconvert_exporter": "python",
   "pygments_lexer": "ipython3",
   "version": "3.7.3"
  }
 },
 "nbformat": 4,
 "nbformat_minor": 4
}
