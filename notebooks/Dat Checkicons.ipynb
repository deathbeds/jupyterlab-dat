{
 "cells": [
  {
   "cell_type": "markdown",
   "metadata": {},
   "source": [
    "# A Visual Check for Dat URLs\n",
    "Missing a few characters here or there means no fun with dat. How might we create a robust visual identity for dat urls?"
   ]
  },
  {
   "cell_type": "code",
   "execution_count": 1,
   "metadata": {},
   "outputs": [],
   "source": [
    "import hashlib, ipywidgets as W, jinja2, IPython"
   ]
  },
  {
   "cell_type": "code",
   "execution_count": 3,
   "metadata": {},
   "outputs": [],
   "source": [
    "dat = \"b7440e9579d65768ae99b0fd3fac6e608d9b28a9fae8d6fd47511e4d6e5cd898\""
   ]
  },
  {
   "cell_type": "code",
   "execution_count": 4,
   "metadata": {},
   "outputs": [],
   "source": [
    "preview = None"
   ]
  },
  {
   "cell_type": "code",
   "execution_count": 5,
   "metadata": {
    "jupyter": {
     "source_hidden": true
    }
   },
   "outputs": [
    {
     "data": {
      "application/vnd.jupyter.widget-view+json": {
       "model_id": "bcda546e244d434ea523add3821d43d2",
       "version_major": 2,
       "version_minor": 0
      },
      "text/plain": [
       "interactive(children=(Text(value='b7440e9579d65768ae99b0fd3fac6e608d9b28a9fae8d6fd47511e4d6e5cd898', descripti…"
      ]
     },
     "metadata": {},
     "output_type": "display_data"
    }
   ],
   "source": [
    "@W.interact\n",
    "def icon(dat=dat, c=(1, 20), r=(1, 20), p=(0, 100), e=(3, 6, 3)):\n",
    "    sha = hashlib.sha256(dat.encode(\"utf-8\")).hexdigest()\n",
    "    colors = []\n",
    "    def f(hex, i, j):\n",
    "        b = (i + (j * c)) * e\n",
    "        o = hex[b:b+e]\n",
    "        colors.append(o)\n",
    "        return o\n",
    "    tmpl = jinja2.Template(\"\"\"\n",
    "    <svg width=\"{{ c * p}}\" height=\"{{ r * p}}\">\n",
    "        {% for j in range(r) %}\n",
    "            {% for i in range(c) %}\n",
    "                <rect x=\"{{ i * p }}\" y=\"{{ j * p }}\" width=\"{{p}}\" height=\"{{p}}\" \n",
    "                    fill=\"#{{ f(hex, i, j) }}\"/>\n",
    "            {% endfor %}\n",
    "        {% endfor %}\n",
    "    </svg>\n",
    "    \"\"\")\n",
    "    h = IPython.display.HTML(tmpl.render(hex=sha, c=c, p=p, e=e, f=f, r=r))\n",
    "    if preview:\n",
    "        preview.update(h)\n",
    "    print(sha)\n",
    "    print(\"\".join(colors))\n",
    "    print(colors)"
   ]
  },
  {
   "cell_type": "code",
   "execution_count": 6,
   "metadata": {},
   "outputs": [
    {
     "data": {
      "text/html": [
       "\n",
       "    <svg width=\"175\" height=\"140\">\n",
       "        \n",
       "            \n",
       "                <rect x=\"0\" y=\"0\" width=\"35\" height=\"35\" \n",
       "                    fill=\"#40a\"/>\n",
       "            \n",
       "                <rect x=\"35\" y=\"0\" width=\"35\" height=\"35\" \n",
       "                    fill=\"#407\"/>\n",
       "            \n",
       "                <rect x=\"70\" y=\"0\" width=\"35\" height=\"35\" \n",
       "                    fill=\"#053\"/>\n",
       "            \n",
       "                <rect x=\"105\" y=\"0\" width=\"35\" height=\"35\" \n",
       "                    fill=\"#f42\"/>\n",
       "            \n",
       "                <rect x=\"140\" y=\"0\" width=\"35\" height=\"35\" \n",
       "                    fill=\"#c50\"/>\n",
       "            \n",
       "        \n",
       "            \n",
       "                <rect x=\"0\" y=\"35\" width=\"35\" height=\"35\" \n",
       "                    fill=\"#239\"/>\n",
       "            \n",
       "                <rect x=\"35\" y=\"35\" width=\"35\" height=\"35\" \n",
       "                    fill=\"#865\"/>\n",
       "            \n",
       "                <rect x=\"70\" y=\"35\" width=\"35\" height=\"35\" \n",
       "                    fill=\"#643\"/>\n",
       "            \n",
       "                <rect x=\"105\" y=\"35\" width=\"35\" height=\"35\" \n",
       "                    fill=\"#5cb\"/>\n",
       "            \n",
       "                <rect x=\"140\" y=\"35\" width=\"35\" height=\"35\" \n",
       "                    fill=\"#b4f\"/>\n",
       "            \n",
       "        \n",
       "            \n",
       "                <rect x=\"0\" y=\"70\" width=\"35\" height=\"35\" \n",
       "                    fill=\"#531\"/>\n",
       "            \n",
       "                <rect x=\"35\" y=\"70\" width=\"35\" height=\"35\" \n",
       "                    fill=\"#e1c\"/>\n",
       "            \n",
       "                <rect x=\"70\" y=\"70\" width=\"35\" height=\"35\" \n",
       "                    fill=\"#948\"/>\n",
       "            \n",
       "                <rect x=\"105\" y=\"70\" width=\"35\" height=\"35\" \n",
       "                    fill=\"#05b\"/>\n",
       "            \n",
       "                <rect x=\"140\" y=\"70\" width=\"35\" height=\"35\" \n",
       "                    fill=\"#48d\"/>\n",
       "            \n",
       "        \n",
       "            \n",
       "                <rect x=\"0\" y=\"105\" width=\"35\" height=\"35\" \n",
       "                    fill=\"#16c\"/>\n",
       "            \n",
       "                <rect x=\"35\" y=\"105\" width=\"35\" height=\"35\" \n",
       "                    fill=\"#db7\"/>\n",
       "            \n",
       "                <rect x=\"70\" y=\"105\" width=\"35\" height=\"35\" \n",
       "                    fill=\"#e98\"/>\n",
       "            \n",
       "                <rect x=\"105\" y=\"105\" width=\"35\" height=\"35\" \n",
       "                    fill=\"#a1c\"/>\n",
       "            \n",
       "                <rect x=\"140\" y=\"105\" width=\"35\" height=\"35\" \n",
       "                    fill=\"#461\"/>\n",
       "            \n",
       "        \n",
       "    </svg>\n",
       "    "
      ],
      "text/plain": [
       "<IPython.core.display.HTML object>"
      ]
     },
     "metadata": {},
     "output_type": "display_data"
    }
   ],
   "source": [
    "preview = display(\"\",display_id=True)"
   ]
  }
 ],
 "metadata": {
  "kernelspec": {
   "display_name": "Python 3",
   "language": "python",
   "name": "python3"
  },
  "language_info": {
   "codemirror_mode": {
    "name": "ipython",
    "version": 3
   },
   "file_extension": ".py",
   "mimetype": "text/x-python",
   "name": "python",
   "nbconvert_exporter": "python",
   "pygments_lexer": "ipython3",
   "version": "3.7.3"
  }
 },
 "nbformat": 4,
 "nbformat_minor": 4
}
