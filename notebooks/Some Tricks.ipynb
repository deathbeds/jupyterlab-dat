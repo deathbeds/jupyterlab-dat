{
 "cells": [
  {
   "cell_type": "markdown",
   "metadata": {},
   "source": [
    "# Some Tricks\n",
    "Not everything you can do in a notebook works properly when shared over `jupyterlab-dat`, but there are some pretty cool things that do work."
   ]
  },
  {
   "cell_type": "markdown",
   "metadata": {},
   "source": [
    "## DataFrames"
   ]
  },
  {
   "cell_type": "code",
   "execution_count": 1,
   "metadata": {},
   "outputs": [
    {
     "data": {
      "text/html": [
       "<div>\n",
       "<style scoped>\n",
       "    .dataframe tbody tr th:only-of-type {\n",
       "        vertical-align: middle;\n",
       "    }\n",
       "\n",
       "    .dataframe tbody tr th {\n",
       "        vertical-align: top;\n",
       "    }\n",
       "\n",
       "    .dataframe thead th {\n",
       "        text-align: right;\n",
       "    }\n",
       "</style>\n",
       "<table border=\"1\" class=\"dataframe\">\n",
       "  <thead>\n",
       "    <tr style=\"text-align: right;\">\n",
       "      <th></th>\n",
       "      <th>A</th>\n",
       "      <th>B</th>\n",
       "      <th>C</th>\n",
       "      <th>D</th>\n",
       "    </tr>\n",
       "  </thead>\n",
       "  <tbody>\n",
       "    <tr>\n",
       "      <th>lxAvdLaWIw</th>\n",
       "      <td>0.579041</td>\n",
       "      <td>-0.911301</td>\n",
       "      <td>-0.384163</td>\n",
       "      <td>-1.111372</td>\n",
       "    </tr>\n",
       "    <tr>\n",
       "      <th>mVbUbJlgMh</th>\n",
       "      <td>0.029237</td>\n",
       "      <td>-0.063637</td>\n",
       "      <td>0.126824</td>\n",
       "      <td>-0.717153</td>\n",
       "    </tr>\n",
       "    <tr>\n",
       "      <th>9oa3y0SFIN</th>\n",
       "      <td>0.620017</td>\n",
       "      <td>1.592426</td>\n",
       "      <td>-0.077317</td>\n",
       "      <td>0.070526</td>\n",
       "    </tr>\n",
       "    <tr>\n",
       "      <th>dH92hPu2R1</th>\n",
       "      <td>1.003488</td>\n",
       "      <td>-0.360324</td>\n",
       "      <td>-0.625827</td>\n",
       "      <td>-0.601202</td>\n",
       "    </tr>\n",
       "    <tr>\n",
       "      <th>bVDMJqH5Ic</th>\n",
       "      <td>0.357000</td>\n",
       "      <td>-0.771036</td>\n",
       "      <td>-0.076652</td>\n",
       "      <td>0.363325</td>\n",
       "    </tr>\n",
       "  </tbody>\n",
       "</table>\n",
       "</div>"
      ],
      "text/plain": [
       "                   A         B         C         D\n",
       "lxAvdLaWIw  0.579041 -0.911301 -0.384163 -1.111372\n",
       "mVbUbJlgMh  0.029237 -0.063637  0.126824 -0.717153\n",
       "9oa3y0SFIN  0.620017  1.592426 -0.077317  0.070526\n",
       "dH92hPu2R1  1.003488 -0.360324 -0.625827 -0.601202\n",
       "bVDMJqH5Ic  0.357000 -0.771036 -0.076652  0.363325"
      ]
     },
     "execution_count": 1,
     "metadata": {},
     "output_type": "execute_result"
    }
   ],
   "source": [
    "import pandas\n",
    "df = pandas.util.testing.makeDataFrame()\n",
    "df.head()"
   ]
  },
  {
   "cell_type": "markdown",
   "metadata": {},
   "source": [
    "## Plotting"
   ]
  },
  {
   "cell_type": "code",
   "execution_count": 2,
   "metadata": {},
   "outputs": [
    {
     "data": {
      "image/png": "[encoded data removed]",
      "text/plain": [
       "<Figure size 432x288 with 1 Axes>"
      ]
     },
     "metadata": {
      "needs_background": "light"
     },
     "output_type": "display_data"
    }
   ],
   "source": [
    "%matplotlib inline\n",
    "df.plot.hist();"
   ]
  },
  {
   "cell_type": "markdown",
   "metadata": {},
   "source": [
    "# VDOM\n",
    "[vdom](https://github.com/nteract/vdom) has almost the same expressive power as widgets, but at least part of it doesn't use comm."
   ]
  },
  {
   "cell_type": "code",
   "execution_count": 3,
   "metadata": {},
   "outputs": [
    {
     "data": {
      "application/vdom.v1+json": {
       "attributes": {},
       "children": [
        "Buh-bye! 👋 "
       ],
       "tagName": "h2"
      },
      "text/html": [
       "<h2>Buh-bye! 👋 </h2>"
      ],
      "text/plain": [
       "<h2>Buh-bye! 👋 </h2>"
      ]
     },
     "metadata": {},
     "output_type": "display_data"
    }
   ],
   "source": [
    "import vdom as h\n",
    "some_vdom = h.h1(\"Hello VDOM 👋\")\n",
    "a_vdom_handle = display(some_vdom, display_id=True)"
   ]
  },
  {
   "cell_type": "code",
   "execution_count": 4,
   "metadata": {},
   "outputs": [],
   "source": [
    "a_vdom_handle.update(h.h2(\"Buh-bye! 👋 \"));"
   ]
  },
  {
   "cell_type": "markdown",
   "metadata": {},
   "source": [
    "# Command Linking\n",
    "You can publish URLs that enable JupyterLab commands:"
   ]
  },
  {
   "cell_type": "code",
   "execution_count": 5,
   "metadata": {},
   "outputs": [
    {
     "data": {
      "text/html": [
       "<h1><a href=\"https://jupyter.org\" data-commandlinker-command=\"notebook:restart-run-all\">Restart & Run All</a></h1>\n"
      ],
      "text/plain": [
       "<IPython.core.display.HTML object>"
      ]
     },
     "metadata": {},
     "output_type": "display_data"
    }
   ],
   "source": [
    "%%html\n",
    "<h1><a href=\"https://jupyter.org\" data-commandlinker-command=\"notebook:restart-run-all\">Restart & Run All</a></h1>"
   ]
  },
  {
   "cell_type": "markdown",
   "metadata": {},
   "source": [
    "# One-click URL\n",
    "If you are using a JupyterHub (like [Binder](https://mybinder.org)), you can create clickable links that will launch right into a shared stream. While _widgets don't work_ without the end user running our notebook, they are pretty handy for some quick UI."
   ]
  },
  {
   "cell_type": "code",
   "execution_count": 6,
   "metadata": {
    "dat": {
     "@id": "6bf13137-be30-4a86-a90d-9f6f7e3e5d48"
    }
   },
   "outputs": [],
   "source": [
    "import IPython, qrcode.image.svg, ipywidgets as W, traitlets as T, xml.etree.ElementTree as ET, io"
   ]
  },
  {
   "cell_type": "code",
   "execution_count": 7,
   "metadata": {},
   "outputs": [],
   "source": [
    "hub = W.Text(\"https://mybinder.org/v2/gh/\", description=\"hub\")\n",
    "repo = W.Text(\"deathbeds/jupyterlab-dat\", description=\"repo\")\n",
    "branch = W.Text(\"master\", description=\"branch\")\n",
    "dat = W.Text(\"21f4ea4e904307e37c9fbaf5ee28531d31eb45299771b49f51dcf1b873406c59\", description=\"dat\", layout={\"width\": \"45em\"})\n",
    "html = W.HTML()\n",
    "\n",
    "def update_qr(*_):\n",
    "    url = f\"{hub.value}{repo.value}/{branch.value}?urlpath=lab/tree/dat-mkii/{dat.value}\"\n",
    "    qr = qrcode.QRCode()\n",
    "    qr.add_data(url)\n",
    "    qr_img = qr.make_image(qrcode.image.svg.SvgPathImage)\n",
    "    out = io.BytesIO()\n",
    "    qr_img._write(out)\n",
    "    html.value = f\"\"\"\n",
    "        <a href=\"{url}\" style=\"text-decoration: underline; font-size: 2rem; color: #2aca4b;\">DRAG DAT ⬡</a>\n",
    "        <br/>\n",
    "        {out.getvalue().decode(\"utf-8\")}\n",
    "    \"\"\"\n",
    "    \n",
    "[w.observe(update_qr) for w in [hub, repo, branch, dat]]\n",
    "update_qr()"
   ]
  },
  {
   "cell_type": "code",
   "execution_count": 8,
   "metadata": {},
   "outputs": [
    {
     "data": {
      "application/vnd.jupyter.widget-view+json": {
       "model_id": "1a53149eb7db4096be5a0b839b5ef10a",
       "version_major": 2,
       "version_minor": 0
      },
      "text/plain": [
       "HBox(children=(VBox(children=(Text(value='https://mybinder.org/v2/gh/', description='hub'), Text(value='deathb…"
      ]
     },
     "metadata": {},
     "output_type": "display_data"
    }
   ],
   "source": [
    "W.HBox([W.VBox([hub, repo, branch, dat]), html])"
   ]
  },
  {
   "cell_type": "code",
   "execution_count": null,
   "metadata": {},
   "outputs": [],
   "source": []
  }
 ],
 "metadata": {
  "kernelspec": {
   "display_name": "Python 3",
   "language": "python",
   "name": "python3"
  },
  "language_info": {
   "codemirror_mode": {
    "name": "ipython",
    "version": 3
   },
   "file_extension": ".py",
   "mimetype": "text/x-python",
   "name": "python",
   "nbconvert_exporter": "python",
   "pygments_lexer": "ipython3",
   "version": "3.7.3"
  },
  "widgets": {
   "application/vnd.jupyter.widget-state+json": {
    "state": {
     "08b4960502424c8c9373b79df376f7c1": {
      "model_module": "@jupyter-widgets/base",
      "model_module_version": "1.2.0",
      "model_name": "LayoutModel",
      "state": {}
     },
     "1a53149eb7db4096be5a0b839b5ef10a": {
      "model_module": "@jupyter-widgets/controls",
      "model_module_version": "1.5.0",
      "model_name": "HBoxModel",
      "state": {
       "children": [
        "IPY_MODEL_33bd328d7db54049ac92f90d5d440d1b",
        "IPY_MODEL_ed48fc20f56c4434b57efd37e962eb0f"
       ],
       "layout": "IPY_MODEL_6d930967a1c24a08aab6d0e3b2acf650"
      }
     },
     "33bd328d7db54049ac92f90d5d440d1b": {
      "model_module": "@jupyter-widgets/controls",
      "model_module_version": "1.5.0",
      "model_name": "VBoxModel",
      "state": {
       "children": [
        "IPY_MODEL_e8d3e636aa2243028143be57a162c374",
        "IPY_MODEL_c17ccb59c1974691856d9d7d5e5e5bda",
        "IPY_MODEL_33ebeaebaabe4c88918a4ede430ac6d3",
        "IPY_MODEL_47d2995fa2bd4dd59a2739ac3141b8d2"
       ],
       "layout": "IPY_MODEL_682b1327a25c4be6a2cd759b2fde3b84"
      }
     },
     "33ebeaebaabe4c88918a4ede430ac6d3": {
      "model_module": "@jupyter-widgets/controls",
      "model_module_version": "1.5.0",
      "model_name": "TextModel",
      "state": {
       "description": "branch",
       "layout": "IPY_MODEL_40edebba4a8d431b877622907d03fce5",
       "style": "IPY_MODEL_5adc5bc4bf48433b8935b0b2b66c5831",
       "value": "master"
      }
     },
     "3c58410b76674da3a265317231a3c5c7": {
      "model_module": "@jupyter-widgets/base",
      "model_module_version": "1.2.0",
      "model_name": "LayoutModel",
      "state": {}
     },
     "40edebba4a8d431b877622907d03fce5": {
      "model_module": "@jupyter-widgets/base",
      "model_module_version": "1.2.0",
      "model_name": "LayoutModel",
      "state": {}
     },
     "47d2995fa2bd4dd59a2739ac3141b8d2": {
      "model_module": "@jupyter-widgets/controls",
      "model_module_version": "1.5.0",
      "model_name": "TextModel",
      "state": {
       "description": "dat",
       "layout": "IPY_MODEL_d594151c8e85441097594f7f51a2a18a",
       "style": "IPY_MODEL_b6b586aa127b4d1ea695c07e43817816",
       "value": "21f4ea4e904307e37c9fbaf5ee28531d31eb45299771b49f51dcf1b873406c59"
      }
     },
     "587082e3445e438285893443b0a5570b": {
      "model_module": "@jupyter-widgets/base",
      "model_module_version": "1.2.0",
      "model_name": "LayoutModel",
      "state": {}
     },
     "5adc5bc4bf48433b8935b0b2b66c5831": {
      "model_module": "@jupyter-widgets/controls",
      "model_module_version": "1.5.0",
      "model_name": "DescriptionStyleModel",
      "state": {
       "description_width": ""
      }
     },
     "682b1327a25c4be6a2cd759b2fde3b84": {
      "model_module": "@jupyter-widgets/base",
      "model_module_version": "1.2.0",
      "model_name": "LayoutModel",
      "state": {}
     },
     "6d930967a1c24a08aab6d0e3b2acf650": {
      "model_module": "@jupyter-widgets/base",
      "model_module_version": "1.2.0",
      "model_name": "LayoutModel",
      "state": {}
     },
     "784e911abcff43ae9b88eb3d275571ee": {
      "model_module": "@jupyter-widgets/controls",
      "model_module_version": "1.5.0",
      "model_name": "DescriptionStyleModel",
      "state": {
       "description_width": ""
      }
     },
     "8f818a1bcd7842cfad7e49d0eafeacd5": {
      "model_module": "@jupyter-widgets/controls",
      "model_module_version": "1.5.0",
      "model_name": "DescriptionStyleModel",
      "state": {
       "description_width": ""
      }
     },
     "b6b586aa127b4d1ea695c07e43817816": {
      "model_module": "@jupyter-widgets/controls",
      "model_module_version": "1.5.0",
      "model_name": "DescriptionStyleModel",
      "state": {
       "description_width": ""
      }
     },
     "c17ccb59c1974691856d9d7d5e5e5bda": {
      "model_module": "@jupyter-widgets/controls",
      "model_module_version": "1.5.0",
      "model_name": "TextModel",
      "state": {
       "description": "repo",
       "layout": "IPY_MODEL_587082e3445e438285893443b0a5570b",
       "style": "IPY_MODEL_db698e67351e4088989bb474d265d29c",
       "value": "deathbeds/jupyterlab-dat"
      }
     },
     "d594151c8e85441097594f7f51a2a18a": {
      "model_module": "@jupyter-widgets/base",
      "model_module_version": "1.2.0",
      "model_name": "LayoutModel",
      "state": {
       "width": "45em"
      }
     },
     "db698e67351e4088989bb474d265d29c": {
      "model_module": "@jupyter-widgets/controls",
      "model_module_version": "1.5.0",
      "model_name": "DescriptionStyleModel",
      "state": {
       "description_width": ""
      }
     },
     "e8d3e636aa2243028143be57a162c374": {
      "model_module": "@jupyter-widgets/controls",
      "model_module_version": "1.5.0",
      "model_name": "TextModel",
      "state": {
       "description": "hub",
       "layout": "IPY_MODEL_3c58410b76674da3a265317231a3c5c7",
       "style": "IPY_MODEL_8f818a1bcd7842cfad7e49d0eafeacd5",
       "value": "https://mybinder.org/v2/gh/"
      }
     },
     "ed48fc20f56c4434b57efd37e962eb0f": {
      "model_module": "@jupyter-widgets/controls",
      "model_module_version": "1.5.0",
      "model_name": "HTMLModel",
      "state": {
       "layout": "IPY_MODEL_08b4960502424c8c9373b79df376f7c1",
       "style": "IPY_MODEL_784e911abcff43ae9b88eb3d275571ee",
       "value": "\n        <a href=\"https://mybinder.org/v2/gh/deathbeds/jupyterlab-dat/master?urlpath=lab/tree/dat-mkii/21f4ea4e904307e37c9fbaf5ee28531d31eb45299771b49f51dcf1b873406c59\" style=\"text-decoration: underline; font-size: 2rem; color: #2aca4b;\">DRAG DAT ⬡</a>\n        <br/>\n        <?xml version='1.0' encoding='UTF-8'?>\n<svg height=\"57mm\" version=\"1.1\" viewBox=\"0 0 57 57\" width=\"57mm\" xmlns=\"http://www.w3.org/2000/svg\"><path d=\"M 44 26 L 44 27 L 45 27 L 45 26 z M 25 32 L 25 33 L 26 33 L 26 32 z M 8 40 L 8 41 L 9 41 L 9 40 z M 50 16 L 50 17 L 51 17 L 51 16 z M 33 48 L 33 49 L 34 49 L 34 48 z M 20 51 L 20 52 L 21 52 L 21 51 z M 40 38 L 40 39 L 41 39 L 41 38 z M 19 34 L 19 35 L 20 35 L 20 34 z M 28 18 L 28 19 L 29 19 L 29 18 z M 7 6 L 7 7 L 8 7 L 8 6 z M 5 44 L 5 45 L 6 45 L 6 44 z M 44 33 L 44 34 L 45 34 L 45 33 z M 25 41 L 25 42 L 26 42 L 26 41 z M 8 39 L 8 40 L 9 40 L 9 39 z M 12 42 L 12 43 L 13 43 L 13 42 z M 11 26 L 11 27 L 12 27 L 12 26 z M 33 41 L 33 42 L 34 42 L 34 41 z M 37 38 L 37 39 L 38 39 L 38 38 z M 20 42 L 20 43 L 21 43 L 21 42 z M 40 45 L 40 46 L 41 46 L 41 45 z M 26 16 L 26 17 L 27 17 L 27 16 z M 48 29 L 48 30 L 49 30 L 49 29 z M 38 7 L 38 8 L 39 8 L 39 7 z M 28 25 L 28 26 L 29 26 L 29 25 z M 17 17 L 17 18 L 18 18 L 18 17 z M 4 18 L 4 19 L 5 19 L 5 18 z M 42 35 L 42 36 L 43 36 L 43 35 z M 7 15 L 7 16 L 8 16 L 8 15 z M 5 37 L 5 38 L 6 38 L 6 37 z M 8 46 L 8 47 L 9 47 L 9 46 z M 12 49 L 12 50 L 13 50 L 13 49 z M 11 19 L 11 20 L 12 20 L 12 19 z M 26 11 L 26 12 L 27 12 L 27 11 z M 16 45 L 16 46 L 17 46 L 17 45 z M 38 30 L 38 31 L 39 31 L 39 30 z M 49 51 L 49 52 L 50 52 L 50 51 z M 4 9 L 4 10 L 5 10 L 5 9 z M 42 26 L 42 27 L 43 27 L 43 26 z M 8 21 L 8 22 L 9 22 L 9 21 z M 20 24 L 20 25 L 21 25 L 21 24 z M 23 5 L 23 6 L 24 6 L 24 5 z M 45 48 L 45 49 L 46 49 L 46 48 z M 26 34 L 26 35 L 27 35 L 27 34 z M 48 19 L 48 20 L 49 20 L 49 19 z M 16 36 L 16 37 L 17 37 L 17 36 z M 21 47 L 21 48 L 22 48 L 22 47 z M 4 32 L 4 33 L 5 33 L 5 32 z M 29 8 L 29 9 L 30 9 L 30 8 z M 32 27 L 32 28 L 33 28 L 33 27 z M 18 42 L 18 43 L 19 43 L 19 42 z M 8 28 L 8 29 L 9 29 L 9 28 z M 50 44 L 50 45 L 51 45 L 51 44 z M 33 52 L 33 53 L 34 53 L 34 52 z M 20 15 L 20 16 L 21 16 L 21 15 z M 45 25 L 45 26 L 46 26 L 46 25 z M 48 10 L 48 11 L 49 11 L 49 10 z M 51 15 L 51 16 L 52 16 L 52 15 z M 18 45 L 18 46 L 19 46 L 19 45 z M 33 13 L 33 14 L 34 14 L 34 13 z M 20 6 L 20 7 L 21 7 L 21 6 z M 6 49 L 6 50 L 7 50 L 7 49 z M 26 44 L 26 45 L 27 45 L 27 44 z M 41 46 L 41 47 L 42 47 L 42 46 z M 14 16 L 14 17 L 15 17 L 15 16 z M 39 32 L 39 33 L 40 33 L 40 32 z M 29 26 L 29 27 L 30 27 L 30 26 z M 5 17 L 5 18 L 6 18 L 6 17 z M 33 6 L 33 7 L 34 7 L 34 6 z M 6 40 L 6 41 L 7 41 L 7 40 z M 26 39 L 26 40 L 27 40 L 27 39 z M 51 29 L 51 30 L 52 30 L 52 29 z M 46 50 L 46 51 L 47 51 L 47 50 z M 17 46 L 17 47 L 18 47 L 18 46 z M 15 32 L 15 33 L 16 33 L 16 32 z M 5 10 L 5 11 L 6 11 L 6 10 z M 43 21 L 43 22 L 44 22 L 44 21 z M 30 10 L 30 11 L 31 11 L 31 10 z M 33 31 L 33 32 L 34 32 L 34 31 z M 23 33 L 23 34 L 24 34 L 24 33 z M 9 22 L 9 23 L 10 23 L 10 22 z M 24 8 L 24 9 L 25 9 L 25 8 z M 49 16 L 49 17 L 50 17 L 50 16 z M 36 19 L 36 20 L 37 20 L 37 19 z M 39 14 L 39 15 L 40 15 L 40 14 z M 15 25 L 15 26 L 16 26 L 16 25 z M 5 35 L 5 36 L 6 36 L 6 35 z M 30 5 L 30 6 L 31 6 L 31 5 z M 52 34 L 52 35 L 53 35 L 53 34 z M 23 38 L 23 39 L 24 39 L 24 38 z M 9 31 L 9 32 L 10 32 L 10 31 z M 31 38 L 31 39 L 32 39 L 32 38 z M 34 49 L 34 50 L 35 50 L 35 49 z M 38 52 L 38 53 L 39 53 L 39 52 z M 21 12 L 21 13 L 22 13 L 22 12 z M 27 26 L 27 27 L 28 27 L 28 26 z M 10 46 L 10 47 L 11 47 L 11 46 z M 36 10 L 36 11 L 37 11 L 37 10 z M 42 48 L 42 49 L 43 49 L 43 48 z M 18 9 L 18 10 L 19 10 L 19 9 z M 40 22 L 40 23 L 41 23 L 41 22 z M 43 11 L 43 12 L 44 12 L 44 11 z M 30 12 L 30 13 L 31 13 L 31 12 z M 19 50 L 19 51 L 20 51 L 20 50 z M 23 47 L 23 48 L 24 48 L 24 47 z M 21 5 L 21 6 L 22 6 L 22 5 z M 27 51 L 27 52 L 28 52 L 28 51 z M 10 49 L 10 50 L 11 50 L 11 49 z M 36 33 L 36 34 L 37 34 L 37 33 z M 47 44 L 47 45 L 48 45 L 48 44 z M 12 26 L 12 27 L 13 27 L 13 26 z M 15 7 L 15 8 L 16 8 L 16 7 z M 52 16 L 52 17 L 53 17 L 53 16 z M 6 12 L 6 13 L 7 13 L 7 12 z M 28 41 L 28 42 L 29 42 L 29 41 z M 9 17 L 9 18 L 10 18 L 10 17 z M 34 35 L 34 36 L 35 36 L 35 35 z M 46 6 L 46 7 L 47 7 L 47 6 z M 10 40 L 10 41 L 11 41 L 11 40 z M 14 47 L 14 48 L 15 48 L 15 47 z M 39 37 L 39 38 L 40 38 L 40 37 z M 47 37 L 47 38 L 48 38 L 48 37 z M 18 27 L 18 28 L 19 28 L 19 27 z M 30 30 L 30 31 L 31 31 L 31 30 z M 52 7 L 52 8 L 53 8 L 53 7 z M 16 29 L 16 30 L 17 30 L 17 29 z M 6 7 L 6 8 L 7 8 L 7 7 z M 28 48 L 28 49 L 29 49 L 29 48 z M 31 13 L 31 14 L 32 14 L 32 13 z M 34 10 L 34 11 L 35 11 L 35 10 z M 24 28 L 24 29 L 25 29 L 25 28 z M 7 36 L 7 37 L 8 37 L 8 36 z M 46 17 L 46 18 L 47 18 L 47 17 z M 36 47 L 36 48 L 37 48 L 37 47 z M 39 42 L 39 43 L 40 43 L 40 42 z M 12 8 L 12 9 L 13 9 L 13 8 z M 37 16 L 37 17 L 38 17 L 38 16 z M 34 13 L 34 14 L 35 14 L 35 13 z M 4 48 L 4 49 L 5 49 L 5 48 z M 10 26 L 10 27 L 11 27 L 11 26 z M 32 43 L 32 44 L 33 44 L 33 43 z M 35 46 L 35 47 L 36 47 L 36 46 z M 39 51 L 39 52 L 40 52 L 40 51 z M 22 17 L 22 18 L 23 18 L 23 17 z M 37 9 L 37 10 L 38 10 L 38 9 z M 31 11 L 31 12 L 32 12 L 32 11 z M 4 39 L 4 40 L 5 40 L 5 39 z M 7 50 L 7 51 L 8 51 L 8 50 z M 35 23 L 35 24 L 36 24 L 36 23 z M 44 45 L 44 46 L 45 46 L 45 45 z M 50 7 L 50 8 L 51 8 L 51 7 z M 15 51 L 15 52 L 16 52 L 16 51 z M 43 36 L 43 37 L 44 37 L 44 36 z M 48 49 L 48 50 L 49 50 L 49 49 z M 52 44 L 52 45 L 53 45 L 53 44 z M 16 10 L 16 11 L 17 11 L 17 10 z M 19 15 L 19 16 L 20 16 L 20 15 z M 31 32 L 31 33 L 32 33 L 32 32 z M 7 27 L 7 28 L 8 28 L 8 27 z M 29 42 L 29 43 L 30 43 L 30 42 z M 10 4 L 10 5 L 11 5 L 11 4 z M 44 20 L 44 21 L 45 21 L 45 20 z M 25 22 L 25 23 L 26 23 L 26 22 z M 47 17 L 47 18 L 48 18 L 48 17 z M 15 40 L 15 41 L 16 41 L 16 40 z M 37 27 L 37 28 L 38 28 L 38 27 z M 20 45 L 20 46 L 21 46 L 21 45 z M 40 40 L 40 41 L 41 41 L 41 40 z M 48 40 L 48 41 L 49 41 L 49 40 z M 13 34 L 13 35 L 14 35 L 14 34 z M 52 51 L 52 52 L 53 52 L 53 51 z M 38 18 L 38 19 L 39 19 L 39 18 z M 19 20 L 19 21 L 20 21 L 20 20 z M 41 7 L 41 8 L 42 8 L 42 7 z M 28 12 L 28 13 L 29 13 L 29 12 z M 7 32 L 7 33 L 8 33 L 8 32 z M 35 5 L 35 6 L 36 6 L 36 5 z M 44 27 L 44 28 L 45 28 L 45 27 z M 25 31 L 25 32 L 26 32 L 26 31 z M 8 41 L 8 42 L 9 42 L 9 41 z M 33 47 L 33 48 L 34 48 L 34 47 z M 37 44 L 37 45 L 38 45 L 38 44 z M 20 36 L 20 37 L 21 37 L 21 36 z M 26 14 L 26 15 L 27 15 L 27 14 z M 48 39 L 48 40 L 49 40 L 49 39 z M 13 11 L 13 12 L 14 12 L 14 11 z M 52 42 L 52 43 L 53 43 L 53 42 z M 4 12 L 4 13 L 5 13 L 5 12 z M 29 52 L 29 53 L 30 53 L 30 52 z M 32 15 L 32 16 L 33 16 L 33 15 z M 35 18 L 35 19 L 36 19 L 36 18 z M 25 40 L 25 41 L 26 41 L 26 40 z M 8 48 L 8 49 L 9 49 L 9 48 z M 12 43 L 12 44 L 13 44 L 13 43 z M 11 21 L 11 22 L 12 22 L 12 21 z M 50 24 L 50 25 L 51 25 L 51 24 z M 33 40 L 33 41 L 34 41 L 34 40 z M 20 43 L 20 44 L 21 44 L 21 43 z M 40 46 L 40 47 L 41 47 L 41 46 z M 45 37 L 45 38 L 46 38 L 46 37 z M 48 30 L 48 31 L 49 31 L 49 30 z M 28 26 L 28 27 L 29 27 L 29 26 z M 17 16 L 17 17 L 18 17 L 18 16 z M 4 19 L 4 20 L 5 20 L 5 19 z M 7 14 L 7 15 L 8 15 L 8 14 z M 32 6 L 32 7 L 33 7 L 33 6 z M 12 50 L 12 51 L 13 51 L 13 50 z M 11 18 L 11 19 L 12 19 L 12 18 z M 20 34 L 20 35 L 21 35 L 21 34 z M 26 8 L 26 9 L 27 9 L 27 8 z M 16 46 L 16 47 L 17 47 L 17 46 z M 28 33 L 28 34 L 29 34 L 29 33 z M 17 9 L 17 10 L 18 10 L 18 9 z M 4 10 L 4 11 L 5 11 L 5 10 z M 29 6 L 29 7 L 30 7 L 30 6 z M 44 16 L 44 17 L 45 17 L 45 16 z M 30 39 L 30 40 L 31 40 L 31 39 z M 23 4 L 23 5 L 24 5 L 24 4 z M 48 12 L 48 13 L 49 13 L 49 12 z M 51 17 L 51 18 L 52 18 L 52 17 z M 38 22 L 38 23 L 39 23 L 39 22 z M 14 31 L 14 32 L 15 32 L 15 31 z M 39 21 L 39 22 L 40 22 L 40 21 z M 4 33 L 4 34 L 5 34 L 5 33 z M 42 18 L 42 19 L 43 19 L 43 18 z M 18 43 L 18 44 L 19 44 L 19 43 z M 8 29 L 8 30 L 9 30 L 9 29 z M 30 46 L 30 47 L 31 47 L 31 46 z M 45 24 L 45 25 L 46 25 L 46 24 z M 26 26 L 26 27 L 27 27 L 27 26 z M 9 42 L 9 43 L 10 43 L 10 42 z M 51 14 L 51 15 L 52 15 L 52 14 z M 21 39 L 21 40 L 22 40 L 22 39 z M 41 36 L 41 37 L 42 37 L 42 36 z M 27 17 L 27 18 L 28 18 L 28 17 z M 39 26 L 39 27 L 40 27 L 40 26 z M 4 24 L 4 25 L 5 25 L 5 24 z M 42 5 L 42 6 L 43 6 L 43 5 z M 18 50 L 18 51 L 19 51 L 19 50 z M 8 4 L 8 5 L 9 5 L 9 4 z M 50 52 L 50 53 L 51 53 L 51 52 z M 33 12 L 33 13 L 34 13 L 34 12 z M 23 18 L 23 19 L 24 19 L 24 18 z M 6 46 L 6 47 L 7 47 L 7 46 z M 26 45 L 26 46 L 27 46 L 27 45 z M 51 23 L 51 24 L 52 24 L 52 23 z M 38 40 L 38 41 L 39 41 L 39 40 z M 21 40 L 21 41 L 22 41 L 22 40 z M 41 45 L 41 46 L 42 46 L 42 45 z M 27 14 L 27 15 L 28 15 L 28 14 z M 49 29 L 49 30 L 50 30 L 50 29 z M 14 17 L 14 18 L 15 18 L 15 17 z M 39 35 L 39 36 L 40 36 L 40 35 z M 8 19 L 8 20 L 9 20 L 9 19 z M 23 27 L 23 28 L 24 28 L 24 27 z M 6 41 L 6 42 L 7 42 L 7 41 z M 26 36 L 26 37 L 27 37 L 27 36 z M 51 28 L 51 29 L 52 29 L 52 28 z M 21 33 L 21 34 L 22 34 L 22 33 z M 46 51 L 46 52 L 47 52 L 47 51 z M 27 7 L 27 8 L 28 8 L 28 7 z M 49 22 L 49 23 L 50 23 L 50 22 z M 36 13 L 36 14 L 37 14 L 37 13 z M 17 45 L 17 46 L 18 46 L 18 45 z M 39 8 L 39 9 L 40 9 L 40 8 z M 29 34 L 29 35 L 30 35 L 30 34 z M 15 35 L 15 36 L 16 36 L 16 35 z M 43 20 L 43 21 L 44 21 L 44 20 z M 30 11 L 30 12 L 31 12 L 31 11 z M 51 37 L 51 38 L 52 38 L 52 37 z M 34 47 L 34 48 L 35 48 L 35 47 z M 24 9 L 24 10 L 25 10 L 25 9 z M 46 26 L 46 27 L 47 27 L 47 26 z M 10 52 L 10 53 L 11 53 L 11 52 z M 39 17 L 39 18 L 40 18 L 40 17 z M 22 51 L 22 52 L 23 52 L 23 51 z M 42 46 L 42 47 L 43 47 L 43 46 z M 18 7 L 18 8 L 19 8 L 19 7 z M 40 24 L 40 25 L 41 25 L 41 24 z M 43 13 L 43 14 L 44 14 L 44 13 z M 30 18 L 30 19 L 31 19 L 31 18 z M 52 35 L 52 36 L 53 36 L 53 35 z M 23 41 L 23 42 L 24 42 L 24 41 z M 9 30 L 9 31 L 10 31 L 10 30 z M 46 21 L 46 22 L 47 22 L 47 21 z M 27 21 L 27 22 L 28 22 L 28 21 z M 10 47 L 10 48 L 11 48 L 11 47 z M 49 8 L 49 9 L 50 9 L 50 8 z M 36 11 L 36 12 L 37 12 L 37 11 z M 12 20 L 12 21 L 13 21 L 13 20 z M 15 17 L 15 18 L 16 18 L 16 17 z M 18 14 L 18 15 L 19 15 L 19 14 z M 52 26 L 52 27 L 53 27 L 53 26 z M 19 45 L 19 46 L 20 46 L 20 45 z M 34 25 L 34 26 L 35 26 L 35 25 z M 24 15 L 24 16 L 25 16 L 25 15 z M 46 28 L 46 29 L 47 29 L 47 28 z M 27 50 L 27 51 L 28 51 L 28 50 z M 10 38 L 10 39 L 11 39 L 11 38 z M 14 37 L 14 38 L 15 38 L 15 37 z M 12 27 L 12 28 L 13 28 L 13 27 z M 15 6 L 15 7 L 16 7 L 16 6 z M 6 13 L 6 14 L 7 14 L 7 13 z M 28 42 L 28 43 L 29 43 L 29 42 z M 9 16 L 9 17 L 10 17 L 10 16 z M 24 22 L 24 23 L 25 23 L 25 22 z M 46 7 L 46 8 L 47 8 L 47 7 z M 27 43 L 27 44 L 28 44 L 28 43 z M 35 43 L 35 44 L 36 44 L 36 43 z M 12 34 L 12 35 L 13 35 L 13 34 z M 40 5 L 40 6 L 41 6 L 41 5 z M 30 31 L 30 32 L 31 32 L 31 31 z M 52 8 L 52 9 L 53 9 L 53 8 z M 16 30 L 16 31 L 17 31 L 17 30 z M 6 4 L 6 5 L 7 5 L 7 4 z M 34 11 L 34 12 L 35 12 L 35 11 z M 7 39 L 7 40 L 8 40 L 8 39 z M 10 32 L 10 33 L 11 33 L 11 32 z M 35 48 L 35 49 L 36 49 L 36 48 z M 12 9 L 12 10 L 13 10 L 13 9 z M 37 7 L 37 8 L 38 8 L 38 7 z M 40 12 L 40 13 L 41 13 L 41 12 z M 16 21 L 16 22 L 17 22 L 17 21 z M 41 27 L 41 28 L 42 28 L 42 27 z M 6 31 L 6 32 L 7 32 L 7 31 z M 4 49 L 4 50 L 5 50 L 5 49 z M 24 36 L 24 37 L 25 37 L 25 36 z M 36 39 L 36 40 L 37 40 L 37 39 z M 39 50 L 39 51 L 40 51 L 40 50 z M 22 14 L 22 15 L 23 15 L 23 14 z M 44 39 L 44 40 L 45 40 L 45 39 z M 25 19 L 25 20 L 26 20 L 26 19 z M 47 34 L 47 35 L 48 35 L 48 34 z M 15 45 L 15 46 L 16 46 L 16 45 z M 37 8 L 37 9 L 38 9 L 38 8 z M 41 20 L 41 21 L 42 21 L 42 20 z M 4 40 L 4 41 L 5 41 L 5 40 z M 24 51 L 24 52 L 25 52 L 25 51 z M 7 21 L 7 22 L 8 22 L 8 21 z M 10 18 L 10 19 L 11 19 L 11 18 z M 44 46 L 44 47 L 45 47 L 45 46 z M 25 12 L 25 13 L 26 13 L 26 12 z M 8 52 L 8 53 L 9 53 L 9 52 z M 11 41 L 11 42 L 12 42 L 12 41 z M 50 4 L 50 5 L 51 5 L 51 4 z M 15 50 L 15 51 L 16 51 L 16 50 z M 37 33 L 37 34 L 38 34 L 38 33 z M 19 14 L 19 15 L 20 15 L 20 14 z M 41 29 L 41 30 L 42 30 L 42 29 z M 10 5 L 10 6 L 11 6 L 11 5 z M 25 21 L 25 22 L 26 22 L 26 21 z M 47 16 L 47 17 L 48 17 L 48 16 z M 11 38 L 11 39 L 12 39 L 12 38 z M 15 43 L 15 44 L 16 44 L 16 43 z M 37 26 L 37 27 L 38 27 L 38 26 z M 20 46 L 20 47 L 21 47 L 21 46 z M 40 41 L 40 42 L 41 42 L 41 41 z M 13 33 L 13 34 L 14 34 L 14 33 z M 52 36 L 52 37 L 53 37 L 53 36 z M 17 29 L 17 30 L 18 30 L 18 29 z M 32 17 L 32 18 L 33 18 L 33 17 z M 44 28 L 44 29 L 45 29 L 45 28 z M 33 46 L 33 47 L 34 47 L 34 46 z M 20 37 L 20 38 L 21 38 L 21 37 z M 40 48 L 40 49 L 41 49 L 41 48 z M 48 32 L 48 33 L 49 33 L 49 32 z M 52 43 L 52 44 L 53 44 L 53 43 z M 38 10 L 38 11 L 39 11 L 39 10 z M 28 20 L 28 21 L 29 21 L 29 20 z M 4 13 L 4 14 L 5 14 L 5 13 z M 42 30 L 42 31 L 43 31 L 43 30 z M 7 8 L 7 9 L 8 9 L 8 8 z M 32 8 L 32 9 L 33 9 L 33 8 z M 35 13 L 35 14 L 36 14 L 36 13 z M 25 39 L 25 40 L 26 40 L 26 39 z M 8 49 L 8 50 L 9 50 L 9 49 z M 12 44 L 12 45 L 13 45 L 13 44 z M 33 39 L 33 40 L 34 40 L 34 39 z M 20 28 L 20 29 L 21 29 L 21 28 z M 45 36 L 45 37 L 46 37 L 46 36 z M 13 19 L 13 20 L 14 20 L 14 19 z M 38 5 L 38 6 L 39 6 L 39 5 z M 17 15 L 17 16 L 18 16 L 18 15 z M 4 4 L 4 5 L 5 5 L 5 4 z M 7 17 L 7 18 L 8 18 L 8 17 z M 5 43 L 5 44 L 6 44 L 6 43 z M 44 10 L 44 11 L 45 11 L 45 10 z M 11 13 L 11 14 L 12 14 L 12 13 z M 50 32 L 50 33 L 51 33 L 51 32 z M 26 9 L 26 10 L 27 10 L 27 9 z M 13 52 L 13 53 L 14 53 L 14 52 z M 16 47 L 16 48 L 17 48 L 17 47 z M 38 28 L 38 29 L 39 29 L 39 28 z M 28 34 L 28 35 L 29 35 L 29 34 z M 49 49 L 49 50 L 50 50 L 50 49 z M 42 24 L 42 25 L 43 25 L 43 24 z M 29 5 L 29 6 L 30 6 L 30 5 z M 8 23 L 8 24 L 9 24 L 9 23 z M 30 36 L 30 37 L 31 37 L 31 36 z M 20 26 L 20 27 L 21 27 L 21 26 z M 26 32 L 26 33 L 27 33 L 27 32 z M 51 16 L 51 17 L 52 17 L 52 16 z M 16 38 L 16 39 L 17 39 L 17 38 z M 38 23 L 38 24 L 39 24 L 39 23 z M 21 45 L 21 46 L 22 46 L 22 45 z M 14 28 L 14 29 L 15 29 L 15 28 z M 39 20 L 39 21 L 40 21 L 40 20 z M 42 19 L 42 20 L 43 20 L 43 19 z M 18 40 L 18 41 L 19 41 L 19 40 z M 8 30 L 8 31 L 9 31 L 9 30 z M 30 47 L 30 48 L 31 48 L 31 47 z M 50 50 L 50 51 L 51 51 L 51 50 z M 33 18 L 33 19 L 34 19 L 34 18 z M 23 12 L 23 13 L 24 13 L 24 12 z M 26 27 L 26 28 L 27 28 L 27 27 z M 9 41 L 9 42 L 10 42 L 10 41 z M 48 4 L 48 5 L 49 5 L 49 4 z M 38 46 L 38 47 L 39 47 L 39 46 z M 21 38 L 21 39 L 22 39 L 22 38 z M 41 51 L 41 52 L 42 52 L 42 51 z M 27 16 L 27 17 L 28 17 L 28 16 z M 49 35 L 49 36 L 50 36 L 50 35 z M 14 7 L 14 8 L 15 8 L 15 7 z M 39 29 L 39 30 L 40 30 L 40 29 z M 42 10 L 42 11 L 43 11 L 43 10 z M 5 14 L 5 15 L 6 15 L 6 14 z M 43 33 L 43 34 L 44 34 L 44 33 z M 33 11 L 33 12 L 34 12 L 34 11 z M 41 44 L 41 45 L 42 45 L 42 44 z M 46 41 L 46 42 L 47 42 L 47 41 z M 39 34 L 39 35 L 40 35 L 40 34 z M 29 24 L 29 25 L 30 25 L 30 24 z M 8 12 L 8 13 L 9 13 L 9 12 z M 33 4 L 33 5 L 34 5 L 34 4 z M 23 26 L 23 27 L 24 27 L 24 26 z M 6 38 L 6 39 L 7 39 L 7 38 z M 26 37 L 26 38 L 27 38 L 27 37 z M 13 48 L 13 49 L 14 49 L 14 48 z M 34 37 L 34 38 L 35 38 L 35 37 z M 46 48 L 46 49 L 47 49 L 47 48 z M 36 14 L 36 15 L 37 15 L 37 14 z M 42 52 L 42 53 L 43 53 L 43 52 z M 29 33 L 29 34 L 30 34 L 30 33 z M 43 23 L 43 24 L 44 24 L 44 23 z M 30 8 L 30 9 L 31 9 L 31 8 z M 33 29 L 33 30 L 34 30 L 34 29 z M 23 35 L 23 36 L 24 36 L 24 35 z M 9 20 L 9 21 L 10 21 L 10 20 z M 31 51 L 31 52 L 32 52 L 32 51 z M 51 36 L 51 37 L 52 37 L 52 36 z M 34 44 L 34 45 L 35 45 L 35 44 z M 21 25 L 21 26 L 22 26 L 22 25 z M 24 10 L 24 11 L 25 11 L 25 10 z M 27 31 L 27 32 L 28 32 L 28 31 z M 49 14 L 49 15 L 50 15 L 50 14 z M 17 37 L 17 38 L 18 38 L 18 37 z M 39 16 L 39 17 L 40 17 L 40 16 z M 18 4 L 18 5 L 19 5 L 19 4 z M 40 25 L 40 26 L 41 26 L 41 25 z M 5 33 L 5 34 L 6 34 L 6 33 z M 30 19 L 30 20 L 31 20 L 31 19 z M 19 39 L 19 40 L 20 40 L 20 39 z M 31 40 L 31 41 L 32 41 L 32 40 z M 34 23 L 34 24 L 35 24 L 35 23 z M 46 34 L 46 35 L 47 35 L 47 34 z M 27 20 L 27 21 L 28 21 L 28 20 z M 10 44 L 10 45 L 11 45 L 11 44 z M 49 7 L 49 8 L 50 8 L 50 7 z M 14 43 L 14 44 L 15 44 L 15 43 z M 22 43 L 22 44 L 23 44 L 23 43 z M 42 38 L 42 39 L 43 39 L 43 38 z M 12 21 L 12 22 L 13 22 L 13 21 z M 18 15 L 18 16 L 19 16 L 19 15 z M 40 32 L 40 33 L 41 33 L 41 32 z M 5 26 L 5 27 L 6 27 L 6 26 z M 43 5 L 43 6 L 44 6 L 44 5 z M 30 26 L 30 27 L 31 27 L 31 26 z M 19 44 L 19 45 L 20 45 L 20 44 z M 24 24 L 24 25 L 25 25 L 25 24 z M 36 35 L 36 36 L 37 36 L 37 35 z M 12 28 L 12 29 L 13 29 L 13 28 z M 52 18 L 52 19 L 53 19 L 53 18 z M 16 32 L 16 33 L 17 33 L 17 32 z M 6 10 L 6 11 L 7 11 L 7 10 z M 9 15 L 9 16 L 10 16 L 10 15 z M 34 33 L 34 34 L 35 34 L 35 33 z M 46 4 L 46 5 L 47 5 L 47 4 z M 10 30 L 10 31 L 11 31 L 11 30 z M 14 45 L 14 46 L 15 46 L 15 45 z M 22 29 L 22 30 L 23 30 L 23 29 z M 47 39 L 47 40 L 48 40 L 48 39 z M 18 25 L 18 26 L 19 26 L 19 25 z M 30 28 L 30 29 L 31 29 L 31 28 z M 52 9 L 52 10 L 53 10 L 53 9 z M 28 50 L 28 51 L 29 51 L 29 50 z M 31 15 L 31 16 L 32 16 L 32 15 z M 34 8 L 34 9 L 35 9 L 35 8 z M 24 30 L 24 31 L 25 31 L 25 30 z M 36 49 L 36 50 L 37 50 L 37 49 z M 35 51 L 35 52 L 36 52 L 36 51 z M 25 9 L 25 10 L 26 10 L 26 9 z M 12 10 L 12 11 L 13 11 L 13 10 z M 37 6 L 37 7 L 38 7 L 38 6 z M 18 32 L 18 33 L 19 33 L 19 32 z M 40 13 L 40 14 L 41 14 L 41 13 z M 16 22 L 16 23 L 17 23 L 17 22 z M 34 19 L 34 20 L 35 20 L 35 19 z M 4 50 L 4 51 L 5 51 L 5 50 z M 10 24 L 10 25 L 11 25 L 11 24 z M 32 37 L 32 38 L 33 38 L 33 37 z M 44 40 L 44 41 L 45 41 L 45 40 z M 47 21 L 47 22 L 48 22 L 48 21 z M 12 17 L 12 18 L 13 18 L 13 17 z M 40 52 L 40 53 L 41 53 L 41 52 z M 43 41 L 43 42 L 44 42 L 44 41 z M 13 22 L 13 23 L 14 23 L 14 22 z M 16 13 L 16 14 L 17 14 L 17 13 z M 19 16 L 19 17 L 20 17 L 20 16 z M 6 23 L 6 24 L 7 24 L 7 23 z M 4 41 L 4 42 L 5 42 L 5 41 z M 24 44 L 24 45 L 25 45 L 25 44 z M 35 33 L 35 34 L 36 34 L 36 33 z M 44 47 L 44 48 L 45 48 L 45 47 z M 47 26 L 47 27 L 48 27 L 48 26 z M 15 37 L 15 38 L 16 38 L 16 37 z M 52 46 L 52 47 L 53 47 L 53 46 z M 16 4 L 16 5 L 17 5 L 17 4 z M 19 25 L 19 26 L 20 26 L 20 25 z M 28 7 L 28 8 L 29 8 L 29 7 z M 31 34 L 31 35 L 32 35 L 32 34 z M 29 40 L 29 41 L 30 41 L 30 40 z M 10 10 L 10 11 L 11 11 L 11 10 z M 44 22 L 44 23 L 45 23 L 45 22 z M 47 19 L 47 20 L 48 20 L 48 19 z M 50 12 L 50 13 L 51 13 L 51 12 z M 15 42 L 15 43 L 16 43 L 16 42 z M 20 47 L 20 48 L 21 48 L 21 47 z M 40 42 L 40 43 L 41 43 L 41 42 z M 13 32 L 13 33 L 14 33 L 14 32 z M 19 22 L 19 23 L 20 23 L 20 22 z M 41 5 L 41 6 L 42 6 L 42 5 z M 28 14 L 28 15 L 29 15 L 29 14 z M 17 28 L 17 29 L 18 29 L 18 28 z M 7 34 L 7 35 L 8 35 L 8 34 z M 29 49 L 29 50 L 30 50 L 30 49 z M 32 18 L 32 19 L 33 19 L 33 18 z M 44 29 L 44 30 L 45 30 L 45 29 z M 12 38 L 12 39 L 13 39 L 13 38 z M 11 30 L 11 31 L 12 31 L 12 30 z M 33 45 L 33 46 L 34 46 L 34 45 z M 20 38 L 20 39 L 21 39 L 21 38 z M 26 12 L 26 13 L 27 13 L 27 12 z M 13 9 L 13 10 L 14 10 L 14 9 z M 28 21 L 28 22 L 29 22 L 29 21 z M 17 21 L 17 22 L 18 22 L 18 21 z M 35 12 L 35 13 L 36 13 L 36 12 z M 44 4 L 44 5 L 45 5 L 45 4 z M 8 50 L 8 51 L 9 51 L 9 50 z M 12 45 L 12 46 L 13 46 L 13 45 z M 33 38 L 33 39 L 34 39 L 34 38 z M 26 7 L 26 8 L 27 8 L 27 7 z M 38 34 L 38 35 L 39 35 L 39 34 z M 28 28 L 28 29 L 29 29 L 29 28 z M 14 27 L 14 28 L 15 28 L 15 27 z M 4 5 L 4 6 L 5 6 L 5 5 z M 42 22 L 42 23 L 43 23 L 43 22 z M 5 42 L 5 43 L 6 43 L 6 42 z M 44 11 L 44 12 L 45 12 L 45 11 z M 25 47 L 25 48 L 26 48 L 26 47 z M 8 25 L 8 26 L 9 26 L 9 25 z M 20 20 L 20 21 L 21 21 L 21 20 z M 45 44 L 45 45 L 46 45 L 46 44 z M 26 30 L 26 31 L 27 31 L 27 30 z M 48 23 L 48 24 L 49 24 L 49 23 z M 51 10 L 51 11 L 52 11 L 52 10 z M 16 40 L 16 41 L 17 41 L 17 40 z M 28 35 L 28 36 L 29 36 L 29 35 z M 49 48 L 49 49 L 50 49 L 50 48 z M 17 7 L 17 8 L 18 8 L 18 7 z M 32 31 L 32 32 L 33 32 L 33 31 z M 44 18 L 44 19 L 45 19 L 45 18 z M 8 32 L 8 33 L 9 33 L 9 32 z M 50 40 L 50 41 L 51 41 L 51 40 z M 20 27 L 20 28 L 21 28 L 21 27 z M 23 6 L 23 7 L 24 7 L 24 6 z M 45 21 L 45 22 L 46 22 L 46 21 z M 26 33 L 26 34 L 27 34 L 27 33 z M 16 39 L 16 40 L 17 40 L 17 39 z M 41 41 L 41 42 L 42 42 L 42 41 z M 49 41 L 49 42 L 50 42 L 50 41 z M 42 16 L 42 17 L 43 17 L 43 16 z M 29 13 L 29 14 L 30 14 L 30 13 z M 32 22 L 32 23 L 33 23 L 33 22 z M 5 52 L 5 53 L 6 53 L 6 52 z M 30 44 L 30 45 L 31 45 L 31 44 z M 20 18 L 20 19 L 21 19 L 21 18 z M 45 30 L 45 31 L 46 31 L 46 30 z M 26 24 L 26 25 L 27 25 L 27 24 z M 38 47 L 38 48 L 39 48 L 39 47 z M 41 50 L 41 51 L 42 51 L 42 50 z M 49 34 L 49 35 L 50 35 L 50 34 z M 39 28 L 39 29 L 40 29 L 40 28 z M 42 11 L 42 12 L 43 12 L 43 11 z M 5 13 L 5 14 L 6 14 L 6 13 z M 43 32 L 43 33 L 44 33 L 44 32 z M 8 6 L 8 7 L 9 7 L 9 6 z M 23 20 L 23 21 L 24 21 L 24 20 z M 6 44 L 6 45 L 7 45 L 7 44 z M 13 46 L 13 47 L 14 47 L 14 46 z M 38 38 L 38 39 L 39 39 L 39 38 z M 21 30 L 21 31 L 22 31 L 22 30 z M 46 38 L 46 39 L 47 39 L 47 38 z M 27 8 L 27 9 L 28 9 L 28 8 z M 29 31 L 29 32 L 30 32 L 30 31 z M 8 13 L 8 14 L 9 14 L 9 13 z M 33 35 L 33 36 L 34 36 L 34 35 z M 26 42 L 26 43 L 27 43 L 27 42 z M 9 26 L 9 27 L 10 27 L 10 26 z M 31 45 L 31 46 L 32 46 L 32 45 z M 51 30 L 51 31 L 52 31 L 52 30 z M 49 20 L 49 21 L 50 21 L 50 20 z M 36 15 L 36 16 L 37 16 L 37 15 z M 29 32 L 29 33 L 30 33 L 30 32 z M 15 21 L 15 22 L 16 22 L 16 21 z M 5 31 L 5 32 L 6 32 L 6 31 z M 43 22 L 43 23 L 44 23 L 44 22 z M 30 9 L 30 10 L 31 10 L 31 9 z M 52 30 L 52 31 L 53 31 L 53 30 z M 9 35 L 9 36 L 10 36 L 10 35 z M 51 39 L 51 40 L 52 40 L 52 39 z M 34 45 L 34 46 L 35 46 L 35 45 z M 24 11 L 24 12 L 25 12 L 25 11 z M 27 30 L 27 31 L 28 31 L 28 30 z M 36 6 L 36 7 L 37 7 L 37 6 z M 22 49 L 22 50 L 23 50 L 23 49 z M 18 5 L 18 6 L 19 6 L 19 5 z M 40 26 L 40 27 L 41 27 L 41 26 z M 5 32 L 5 33 L 6 33 L 6 32 z M 43 15 L 43 16 L 44 16 L 44 15 z M 33 21 L 33 22 L 34 22 L 34 21 z M 19 38 L 19 39 L 20 39 L 20 38 z M 31 43 L 31 44 L 32 44 L 32 43 z M 51 44 L 51 45 L 52 45 L 52 44 z M 49 6 L 49 7 L 50 7 L 50 6 z M 36 29 L 36 30 L 37 30 L 37 29 z M 22 40 L 22 41 L 23 41 L 23 40 z M 42 39 L 42 40 L 43 40 L 43 39 z M 15 19 L 15 20 L 16 20 L 16 19 z M 40 33 L 40 34 L 41 34 L 41 33 z M 5 25 L 5 26 L 6 26 L 6 25 z M 30 27 L 30 28 L 31 28 L 31 27 z M 28 37 L 28 38 L 29 38 L 29 37 z M 34 31 L 34 32 L 35 32 L 35 31 z M 46 10 L 46 11 L 47 11 L 47 10 z M 27 44 L 27 45 L 28 45 L 28 44 z M 10 36 L 10 37 L 11 37 L 11 36 z M 22 35 L 22 36 L 23 36 L 23 35 z M 47 49 L 47 50 L 48 50 L 48 49 z M 12 29 L 12 30 L 13 30 L 13 29 z M 15 8 L 15 9 L 16 9 L 16 8 z M 18 23 L 18 24 L 19 24 L 19 23 z M 40 8 L 40 9 L 41 9 L 41 8 z M 52 19 L 52 20 L 53 20 L 53 19 z M 19 52 L 19 53 L 20 53 L 20 52 z M 28 44 L 28 45 L 29 45 L 29 44 z M 34 6 L 34 7 L 35 7 L 35 6 z M 46 5 L 46 6 L 47 6 L 47 5 z M 27 37 L 27 38 L 28 38 L 28 37 z M 36 27 L 36 28 L 37 28 L 37 27 z M 35 37 L 35 38 L 36 38 L 36 37 z M 39 38 L 39 39 L 40 39 L 40 38 z M 22 26 L 22 27 L 23 27 L 23 26 z M 47 38 L 47 39 L 48 39 L 48 38 z M 18 30 L 18 31 L 19 31 L 19 30 z M 40 7 L 40 8 L 41 8 L 41 7 z M 30 29 L 30 30 L 31 30 L 31 29 z M 52 10 L 52 11 L 53 11 L 53 10 z M 16 24 L 16 25 L 17 25 L 17 24 z M 6 34 L 6 35 L 7 35 L 7 34 z M 28 51 L 28 52 L 29 52 L 29 51 z M 4 44 L 4 45 L 5 45 L 5 44 z M 7 41 L 7 42 L 8 42 L 8 41 z M 46 12 L 46 13 L 47 13 L 47 12 z M 10 22 L 10 23 L 11 23 L 11 22 z M 32 47 L 32 48 L 33 48 L 33 47 z M 22 21 L 22 22 L 23 22 L 23 21 z M 25 8 L 25 9 L 26 9 L 26 8 z M 12 11 L 12 12 L 13 12 L 13 11 z M 18 33 L 18 34 L 19 34 L 19 33 z M 43 51 L 43 52 L 44 52 L 44 51 z M 41 25 L 41 26 L 42 26 L 42 25 z M 6 29 L 6 30 L 7 30 L 7 29 z M 31 7 L 31 8 L 32 8 L 32 7 z M 34 16 L 34 17 L 35 17 L 35 16 z M 4 51 L 4 52 L 5 52 L 5 51 z M 7 46 L 7 47 L 8 47 L 8 46 z M 35 27 L 35 28 L 36 28 L 36 27 z M 22 12 L 22 13 L 23 13 L 23 12 z M 25 17 L 25 18 L 26 18 L 26 17 z M 47 20 L 47 21 L 48 21 L 48 20 z M 15 47 L 15 48 L 16 48 L 16 47 z M 43 40 L 43 41 L 44 41 L 44 40 z M 13 21 L 13 22 L 14 22 L 14 21 z M 16 14 L 16 15 L 17 15 L 17 14 z M 6 20 L 6 21 L 7 21 L 7 20 z M 7 23 L 7 24 L 8 24 L 8 23 z M 29 38 L 29 39 L 30 39 L 30 38 z M 10 16 L 10 17 L 11 17 L 11 16 z M 44 48 L 44 49 L 45 49 L 45 48 z M 47 13 L 47 14 L 48 14 L 48 13 z M 11 43 L 11 44 L 12 44 L 12 43 z M 50 10 L 50 11 L 51 11 L 51 10 z M 15 36 L 15 37 L 16 37 L 16 36 z M 48 44 L 48 45 L 49 45 L 49 44 z M 13 30 L 13 31 L 14 31 L 14 30 z M 19 24 L 19 25 L 20 25 L 20 24 z M 41 11 L 41 12 L 42 12 L 42 11 z M 28 8 L 28 9 L 29 9 L 29 8 z M 31 21 L 31 22 L 32 22 L 32 21 z M 24 52 L 24 53 L 25 53 L 25 52 z M 7 28 L 7 29 L 8 29 L 8 28 z M 25 35 L 25 36 L 26 36 L 26 35 z M 47 18 L 47 19 L 48 19 L 48 18 z M 11 32 L 11 33 L 12 33 L 12 32 z M 37 24 L 37 25 L 38 25 L 38 24 z M 52 38 L 52 39 L 53 39 L 53 38 z M 19 33 L 19 34 L 20 34 L 20 33 z M 17 27 L 17 28 L 18 28 L 18 27 z M 29 48 L 29 49 L 30 49 L 30 48 z M 32 19 L 32 20 L 33 20 L 33 19 z M 35 6 L 35 7 L 36 7 L 36 6 z M 44 30 L 44 31 L 45 31 L 45 30 z M 25 28 L 25 29 L 26 29 L 26 28 z M 11 25 L 11 26 L 12 26 L 12 25 z M 50 20 L 50 21 L 51 21 L 51 20 z M 37 49 L 37 50 L 38 50 L 38 49 z M 41 13 L 41 14 L 42 14 L 42 13 z M 28 22 L 28 23 L 29 23 L 29 22 z M 17 20 L 17 21 L 18 21 L 18 20 z M 4 15 L 4 16 L 5 16 L 5 15 z M 7 10 L 7 11 L 8 11 L 8 10 z M 32 10 L 32 11 L 33 11 L 33 10 z M 35 15 L 35 16 L 36 16 L 36 15 z M 44 5 L 44 6 L 45 6 L 45 5 z M 25 37 L 25 38 L 26 38 L 26 37 z M 20 30 L 20 31 L 21 31 L 21 30 z M 45 42 L 45 43 L 46 43 L 46 42 z M 48 25 L 48 26 L 49 26 L 49 25 z M 13 17 L 13 18 L 14 18 L 14 17 z M 38 35 L 38 36 L 39 36 L 39 35 z M 14 24 L 14 25 L 15 25 L 15 24 z M 17 13 L 17 14 L 18 14 L 18 13 z M 4 6 L 4 7 L 5 7 L 5 6 z M 7 19 L 7 20 L 8 20 L 8 19 z M 44 12 L 44 13 L 45 13 L 45 12 z M 25 46 L 25 47 L 26 47 L 26 46 z M 8 26 L 8 27 L 9 27 L 9 26 z M 30 43 L 30 44 L 31 44 L 31 43 z M 20 21 L 20 22 L 21 22 L 21 21 z M 45 51 L 45 52 L 46 52 L 46 51 z M 26 31 L 26 32 L 27 32 L 27 31 z M 16 41 L 16 42 L 17 42 L 17 41 z M 38 26 L 38 27 L 39 27 L 39 26 z M 49 47 L 49 48 L 50 48 L 50 47 z M 42 14 L 42 15 L 43 15 L 43 14 z M 44 19 L 44 20 L 45 20 L 45 19 z M 8 33 L 8 34 L 9 34 L 9 33 z M 50 41 L 50 42 L 51 42 L 51 41 z M 37 52 L 37 53 L 38 53 L 38 52 z M 20 12 L 20 13 L 21 13 L 21 12 z M 26 22 L 26 23 L 27 23 L 27 22 z M 48 15 L 48 16 L 49 16 L 49 15 z M 51 18 L 51 19 L 52 19 L 52 18 z M 41 40 L 41 41 L 42 41 L 42 40 z M 14 10 L 14 11 L 15 11 L 15 10 z M 29 12 L 29 13 L 30 13 L 30 12 z M 32 23 L 32 24 L 33 24 L 33 23 z M 18 46 L 18 47 L 19 47 L 19 46 z M 8 8 L 8 9 L 9 9 L 9 8 z M 30 45 L 30 46 L 31 46 L 31 45 z M 50 48 L 50 49 L 51 49 L 51 48 z M 20 19 L 20 20 L 21 20 L 21 19 z M 6 50 L 6 51 L 7 51 L 7 50 z M 26 25 L 26 26 L 27 26 L 27 25 z M 48 6 L 48 7 L 49 7 L 49 6 z M 51 27 L 51 28 L 52 28 L 52 27 z M 21 36 L 21 37 L 22 37 L 22 36 z M 4 27 L 4 28 L 5 28 L 5 27 z M 29 21 L 29 22 L 30 22 L 30 21 z M 18 49 L 18 50 L 19 50 L 19 49 z M 8 7 L 8 8 L 9 8 L 9 7 z M 30 52 L 30 53 L 31 53 L 31 52 z M 33 9 L 33 10 L 34 10 L 34 9 z M 20 10 L 20 11 L 21 11 L 21 10 z M 26 48 L 26 49 L 27 49 L 27 48 z M 38 39 L 38 40 L 39 40 L 39 39 z M 21 29 L 21 30 L 22 30 L 22 29 z M 49 26 L 49 27 L 50 27 L 50 26 z M 29 30 L 29 31 L 30 31 L 30 30 z M 46 46 L 46 47 L 47 47 L 47 46 z M 27 32 L 27 33 L 28 33 L 28 32 z M 17 42 L 17 43 L 18 43 L 18 42 z M 39 13 L 39 14 L 40 14 L 40 13 z M 43 17 L 43 18 L 44 18 L 44 17 z M 31 37 L 31 38 L 32 38 L 32 37 z M 21 15 L 21 16 L 22 16 L 22 15 z M 46 25 L 46 26 L 47 26 L 47 25 z M 49 12 L 49 13 L 50 13 L 50 12 z M 39 18 L 39 19 L 40 19 L 40 18 z M 18 10 L 18 11 L 19 11 L 19 10 z M 43 14 L 43 15 L 44 15 L 44 14 z M 52 22 L 52 23 L 53 23 L 53 22 z M 33 20 L 33 21 L 34 21 L 34 20 z M 19 49 L 19 50 L 20 50 L 20 49 z M 31 42 L 31 43 L 32 43 L 32 42 z M 51 47 L 51 48 L 52 48 L 52 47 z M 34 21 L 34 22 L 35 22 L 35 21 z M 21 16 L 21 17 L 22 17 L 22 16 z M 46 32 L 46 33 L 47 33 L 47 32 z M 10 50 L 10 51 L 11 51 L 11 50 z M 22 41 L 22 42 L 23 42 L 23 41 z M 12 23 L 12 24 L 13 24 L 13 23 z M 40 34 L 40 35 L 41 35 L 41 34 z M 43 7 L 43 8 L 44 8 L 44 7 z M 30 24 L 30 25 L 31 25 L 31 24 z M 9 4 L 9 5 L 10 5 L 10 4 z M 51 52 L 51 53 L 52 53 L 52 52 z M 21 9 L 21 10 L 22 10 L 22 9 z M 14 48 L 14 49 L 15 49 L 15 48 z M 47 48 L 47 49 L 48 49 L 48 48 z M 12 30 L 12 31 L 13 31 L 13 30 z M 15 11 L 15 12 L 16 12 L 16 11 z M 40 9 L 40 10 L 41 10 L 41 9 z M 30 35 L 30 36 L 31 36 L 31 35 z M 52 4 L 52 5 L 53 5 L 53 4 z M 16 34 L 16 35 L 17 35 L 17 34 z M 6 8 L 6 9 L 7 9 L 7 8 z M 9 13 L 9 14 L 10 14 L 10 13 z M 24 33 L 24 34 L 25 34 L 25 33 z M 10 28 L 10 29 L 11 29 L 11 28 z M 32 49 L 32 50 L 33 50 L 33 49 z M 47 41 L 47 42 L 48 42 L 48 41 z M 40 16 L 40 17 L 41 17 L 41 16 z M 16 25 L 16 26 L 17 26 L 17 25 z M 28 52 L 28 53 L 29 53 L 29 52 z M 24 40 L 24 41 L 25 41 L 25 40 z M 46 13 L 46 14 L 47 14 L 47 13 z M 36 51 L 36 52 L 37 52 L 37 51 z M 35 45 L 35 46 L 36 46 L 36 45 z M 39 46 L 39 47 L 40 47 L 40 46 z M 22 18 L 22 19 L 23 19 L 23 18 z M 25 7 L 25 8 L 26 8 L 26 7 z M 47 30 L 47 31 L 48 31 L 48 30 z M 37 4 L 37 5 L 38 5 L 38 4 z M 43 50 L 43 51 L 44 51 L 44 50 z M 16 16 L 16 17 L 17 17 L 17 16 z M 34 17 L 34 18 L 35 18 L 35 17 z M 7 49 L 7 50 L 8 50 L 8 49 z M 10 14 L 10 15 L 11 15 L 11 14 z M 32 39 L 32 40 L 33 40 L 33 39 z M 35 26 L 35 27 L 36 27 L 36 26 z M 22 13 L 22 14 L 23 14 L 23 13 z M 47 23 L 47 24 L 48 24 L 48 23 z M 12 19 L 12 20 L 13 20 L 13 19 z M 15 46 L 15 47 L 16 47 L 16 46 z M 13 20 L 13 21 L 14 21 L 14 20 z M 19 18 L 19 19 L 20 19 L 20 18 z M 41 33 L 41 34 L 42 34 L 42 33 z M 6 21 L 6 22 L 7 22 L 7 21 z M 31 31 L 31 32 L 32 32 L 32 31 z M 29 37 L 29 38 L 30 38 L 30 37 z M 35 35 L 35 36 L 36 36 L 36 35 z M 22 4 L 22 5 L 23 5 L 23 4 z M 44 49 L 44 50 L 45 50 L 45 49 z M 47 12 L 47 13 L 48 13 L 48 12 z M 15 39 L 15 40 L 16 40 L 16 39 z M 48 45 L 48 46 L 49 46 L 49 45 z M 31 20 L 31 21 L 32 21 L 32 20 z M 17 33 L 17 34 L 18 34 L 18 33 z M 7 31 L 7 32 L 8 32 L 8 31 z M 10 8 L 10 9 L 11 9 L 11 8 z M 35 8 L 35 9 L 36 9 L 36 8 z M 44 24 L 44 25 L 45 25 L 45 24 z M 33 50 L 33 51 L 34 51 L 34 50 z M 37 47 L 37 48 L 38 48 L 38 47 z M 20 49 L 20 50 L 21 50 L 21 49 z M 40 36 L 40 37 L 41 37 L 41 36 z M 48 36 L 48 37 L 49 37 L 49 36 z M 13 6 L 13 7 L 14 7 L 14 6 z M 52 39 L 52 40 L 53 40 L 53 39 z M 38 14 L 38 15 L 39 15 L 39 14 z M 19 32 L 19 33 L 20 33 L 20 32 z M 28 16 L 28 17 L 29 17 L 29 16 z M 17 26 L 17 27 L 18 27 L 18 26 z M 7 4 L 7 5 L 8 5 L 8 4 z M 35 17 L 35 18 L 36 18 L 36 17 z M 5 46 L 5 47 L 6 47 L 6 46 z M 25 43 L 25 44 L 26 44 L 26 43 z M 47 10 L 47 11 L 48 11 L 48 10 z M 33 43 L 33 44 L 34 44 L 34 43 z M 26 18 L 26 19 L 27 19 L 27 18 z M 13 15 L 13 16 L 14 16 L 14 15 z M 16 52 L 16 53 L 17 53 L 17 52 z M 38 9 L 38 10 L 39 10 L 39 9 z M 41 12 L 41 13 L 42 13 L 42 12 z M 4 16 L 4 17 L 5 17 L 5 16 z M 32 11 L 32 12 L 33 12 L 33 11 z M 35 14 L 35 15 L 36 15 L 36 14 z M 44 6 L 44 7 L 45 7 L 45 6 z M 25 36 L 25 37 L 26 37 L 26 36 z M 12 47 L 12 48 L 13 48 L 13 47 z M 11 17 L 11 18 L 12 18 L 12 17 z M 50 28 L 50 29 L 51 29 L 51 28 z M 26 5 L 26 6 L 27 6 L 27 5 z M 48 26 L 48 27 L 49 27 L 49 26 z M 13 16 L 13 17 L 14 17 L 14 16 z M 16 51 L 16 52 L 17 52 L 17 51 z M 28 30 L 28 31 L 29 31 L 29 30 z M 14 25 L 14 26 L 15 26 L 15 25 z M 4 7 L 4 8 L 5 8 L 5 7 z M 7 18 L 7 19 L 8 19 L 8 18 z M 32 34 L 32 35 L 33 35 L 33 34 z M 5 40 L 5 41 L 6 41 L 6 40 z M 25 45 L 25 46 L 26 46 L 26 45 z M 8 27 L 8 28 L 9 28 L 9 27 z M 11 14 L 11 15 L 12 15 L 12 14 z M 20 22 L 20 23 L 21 23 L 21 22 z M 45 50 L 45 51 L 46 51 L 46 50 z M 26 28 L 26 29 L 27 29 L 27 28 z M 9 52 L 9 53 L 10 53 L 10 52 z M 51 4 L 51 5 L 52 5 L 52 4 z M 16 42 L 16 43 L 17 43 L 17 42 z M 49 46 L 49 47 L 50 47 L 50 46 z M 14 32 L 14 33 L 15 33 L 15 32 z M 17 5 L 17 6 L 18 6 L 18 5 z M 32 25 L 32 26 L 33 26 L 33 25 z M 8 34 L 8 35 L 9 35 L 9 34 z M 20 13 L 20 14 L 21 14 L 21 13 z M 23 8 L 23 9 L 24 9 L 24 8 z M 48 8 L 48 9 L 49 9 L 49 8 z M 51 13 L 51 14 L 52 14 L 52 13 z M 38 50 L 38 51 L 39 51 L 39 50 z M 21 50 L 21 51 L 22 51 L 22 50 z M 39 25 L 39 26 L 40 26 L 40 25 z M 20 4 L 20 5 L 21 5 L 21 4 z M 26 46 L 26 47 L 27 47 L 27 46 z M 48 7 L 48 8 L 49 8 L 49 7 z M 51 26 L 51 27 L 52 27 L 52 26 z M 21 43 L 21 44 L 22 44 L 22 43 z M 14 18 L 14 19 L 15 19 L 15 18 z M 39 30 L 39 31 L 40 31 L 40 30 z M 42 9 L 42 10 L 43 10 L 43 9 z M 29 20 L 29 21 L 30 21 L 30 20 z M 43 34 L 43 35 L 44 35 L 44 34 z M 26 49 L 26 50 L 27 50 L 27 49 z M 13 44 L 13 45 L 14 45 L 14 44 z M 51 35 L 51 36 L 52 36 L 52 35 z M 49 25 L 49 26 L 50 26 L 50 25 z M 14 13 L 14 14 L 15 14 L 15 13 z M 17 48 L 17 49 L 18 49 L 18 48 z M 15 30 L 15 31 L 16 31 L 16 30 z M 5 4 L 5 5 L 6 5 L 6 4 z M 43 27 L 43 28 L 44 28 L 44 27 z M 33 33 L 33 34 L 34 34 L 34 33 z M 6 37 L 6 38 L 7 38 L 7 37 z M 26 40 L 26 41 L 27 41 L 27 40 z M 31 47 L 31 48 L 32 48 L 32 47 z M 51 40 L 51 41 L 52 41 L 52 40 z M 21 21 L 21 22 L 22 22 L 22 21 z M 14 52 L 14 53 L 15 53 L 15 52 z M 36 17 L 36 18 L 37 18 L 37 17 z M 17 41 L 17 42 L 18 42 L 18 41 z M 39 12 L 39 13 L 40 13 L 40 12 z M 22 52 L 22 53 L 23 53 L 23 52 z M 19 43 L 19 44 L 20 44 L 20 43 z M 23 36 L 23 37 L 24 37 L 24 36 z M 31 36 L 31 37 L 32 37 L 32 36 z M 51 49 L 51 50 L 52 50 L 52 49 z M 34 51 L 34 52 L 35 52 L 35 51 z M 27 24 L 27 25 L 28 25 L 28 24 z M 36 8 L 36 9 L 37 9 L 37 8 z M 22 47 L 22 48 L 23 48 L 23 47 z M 42 50 L 42 51 L 43 51 L 43 50 z M 15 12 L 15 13 L 16 13 L 16 12 z M 40 20 L 40 21 L 41 21 L 41 20 z M 5 22 L 5 23 L 6 23 L 6 22 z M 30 14 L 30 15 L 31 15 L 31 14 z M 23 45 L 23 46 L 24 46 L 24 45 z M 9 10 L 9 11 L 10 11 L 10 10 z M 51 46 L 51 47 L 52 47 L 52 46 z M 21 7 L 21 8 L 22 8 L 22 7 z M 24 12 L 24 13 L 25 13 L 25 12 z M 7 52 L 7 53 L 8 53 L 8 52 z M 27 49 L 27 50 L 28 50 L 28 49 z M 10 51 L 10 52 L 11 52 L 11 51 z M 49 4 L 49 5 L 50 5 L 50 4 z M 36 31 L 36 32 L 37 32 L 37 31 z M 22 38 L 22 39 L 23 39 L 23 38 z M 15 5 L 15 6 L 16 6 L 16 5 z M 43 6 L 43 7 L 44 7 L 44 6 z M 52 14 L 52 15 L 53 15 L 53 14 z M 23 50 L 23 51 L 24 51 L 24 50 z M 28 39 L 28 40 L 29 40 L 29 39 z M 34 29 L 34 30 L 35 30 L 35 29 z M 21 8 L 21 9 L 22 9 L 22 8 z M 46 8 L 46 9 L 47 9 L 47 8 z M 10 42 L 10 43 L 11 43 L 11 42 z M 18 21 L 18 22 L 19 22 L 19 21 z M 40 10 L 40 11 L 41 11 L 41 10 z M 52 5 L 52 6 L 53 6 L 53 5 z M 16 35 L 16 36 L 17 36 L 17 35 z M 28 46 L 28 47 L 29 47 L 29 46 z M 9 12 L 9 13 L 10 13 L 10 12 z M 34 4 L 34 5 L 35 5 L 35 4 z M 24 34 L 24 35 L 25 35 L 25 34 z M 46 19 L 46 20 L 47 20 L 47 19 z M 35 39 L 35 40 L 36 40 L 36 39 z M 39 40 L 39 41 L 40 41 L 40 40 z M 22 24 L 22 25 L 23 25 L 23 24 z M 12 6 L 12 7 L 13 7 L 13 6 z M 37 18 L 37 19 L 38 19 L 38 18 z M 18 28 L 18 29 L 19 29 L 19 28 z M 40 17 L 40 18 L 41 18 L 41 17 z M 16 26 L 16 27 L 17 27 L 17 26 z M 6 32 L 6 33 L 7 33 L 7 32 z M 34 15 L 34 16 L 35 16 L 35 15 z M 4 46 L 4 47 L 5 47 L 5 46 z M 7 43 L 7 44 L 8 44 L 8 43 z M 10 20 L 10 21 L 11 21 L 11 20 z M 32 41 L 32 42 L 33 42 L 33 41 z M 35 44 L 35 45 L 36 45 L 36 44 z M 44 36 L 44 37 L 45 37 L 45 36 z M 25 6 L 25 7 L 26 7 L 26 6 z M 47 33 L 47 34 L 48 34 L 48 33 z M 12 13 L 12 14 L 13 14 L 13 13 z M 37 11 L 37 12 L 38 12 L 38 11 z M 19 4 L 19 5 L 20 5 L 20 4 z M 6 27 L 6 28 L 7 28 L 7 27 z M 31 9 L 31 10 L 32 10 L 32 9 z M 4 37 L 4 38 L 5 38 L 5 37 z M 7 48 L 7 49 L 8 49 L 8 48 z M 36 43 L 36 44 L 37 44 L 37 43 z M 35 21 L 35 22 L 36 22 L 36 21 z M 22 10 L 22 11 L 23 11 L 23 10 z M 44 43 L 44 44 L 45 44 L 45 43 z M 25 15 L 25 16 L 26 16 L 26 15 z M 47 22 L 47 23 L 48 23 L 48 22 z M 12 52 L 12 53 L 13 53 L 13 52 z M 11 44 L 11 45 L 12 45 L 12 44 z M 15 49 L 15 50 L 16 50 L 16 49 z M 43 42 L 43 43 L 44 43 L 44 42 z M 13 27 L 13 28 L 14 28 L 14 27 z M 16 8 L 16 9 L 17 9 L 17 8 z M 19 13 L 19 14 L 20 14 L 20 13 z M 41 32 L 41 33 L 42 33 L 42 32 z M 31 30 L 31 31 L 32 31 L 32 30 z M 29 36 L 29 37 L 30 37 L 30 36 z M 10 6 L 10 7 L 11 7 L 11 6 z M 35 34 L 35 35 L 36 35 L 36 34 z M 22 5 L 22 6 L 23 6 L 23 5 z M 25 24 L 25 25 L 26 25 L 26 24 z M 11 37 L 11 38 L 12 38 L 12 37 z M 50 8 L 50 9 L 51 9 L 51 8 z M 15 38 L 15 39 L 16 39 L 16 38 z M 37 21 L 37 22 L 38 22 L 38 21 z M 48 46 L 48 47 L 49 47 L 49 46 z M 52 49 L 52 50 L 53 50 L 53 49 z M 16 7 L 16 8 L 17 8 L 17 7 z M 19 26 L 19 27 L 20 27 L 20 26 z M 28 10 L 28 11 L 29 11 L 29 10 z M 31 23 L 31 24 L 32 24 L 32 23 z M 17 32 L 17 33 L 18 33 L 18 32 z M 7 30 L 7 31 L 8 31 L 8 30 z M 10 9 L 10 10 L 11 10 L 11 9 z M 35 11 L 35 12 L 36 12 L 36 11 z M 25 33 L 25 34 L 26 34 L 26 33 z M 47 4 L 47 5 L 48 5 L 48 4 z M 11 34 L 11 35 L 12 35 L 12 34 z M 37 46 L 37 47 L 38 47 L 38 46 z M 20 50 L 20 51 L 21 51 L 21 50 z M 13 5 L 13 6 L 14 6 L 14 5 z M 52 40 L 52 41 L 53 41 L 53 40 z M 19 35 L 19 36 L 20 36 L 20 35 z M 41 18 L 41 19 L 42 19 L 42 18 z M 28 17 L 28 18 L 29 18 L 29 17 z M 17 25 L 17 26 L 18 26 L 18 25 z M 7 7 L 7 8 L 8 8 L 8 7 z M 35 16 L 35 17 L 36 17 L 36 16 z M 44 32 L 44 33 L 45 33 L 45 32 z M 20 41 L 20 42 L 21 42 L 21 41 z M 40 44 L 40 45 L 41 45 L 41 44 z M 48 28 L 48 29 L 49 29 L 49 28 z M 13 14 L 13 15 L 14 15 L 14 14 z M 28 24 L 28 25 L 29 25 L 29 24 z M 4 17 L 4 18 L 5 18 L 5 17 z M 42 34 L 42 35 L 43 35 L 43 34 z M 7 12 L 7 13 L 8 13 L 8 12 z M 32 4 L 32 5 L 33 5 L 33 4 z M 12 48 L 12 49 L 13 49 L 13 48 z M 11 16 L 11 17 L 12 17 L 12 16 z M 20 32 L 20 33 L 21 33 L 21 32 z M 45 40 L 45 41 L 46 41 L 46 40 z M 26 10 L 26 11 L 27 11 L 27 10 z M 48 27 L 48 28 L 49 28 L 49 27 z M 41 52 L 41 53 L 42 53 L 42 52 z M 28 31 L 28 32 L 29 32 L 29 31 z M 4 8 L 4 9 L 5 9 L 5 8 z M 32 35 L 32 36 L 33 36 L 33 35 z M 44 14 L 44 15 L 45 15 L 45 14 z M 8 20 L 8 21 L 9 21 L 9 20 z M 30 41 L 30 42 L 31 42 L 31 41 z M 50 36 L 50 37 L 51 37 L 51 36 z M 20 23 L 20 24 L 21 24 L 21 23 z M 26 29 L 26 30 L 27 30 L 27 29 z M 48 18 L 48 19 L 49 19 L 49 18 z M 16 43 L 16 44 L 17 44 L 17 43 z M 38 24 L 38 25 L 39 25 L 39 24 z M 14 33 L 14 34 L 15 34 L 15 33 z M 17 4 L 17 5 L 18 5 L 18 4 z M 4 31 L 4 32 L 5 32 L 5 31 z M 30 48 L 30 49 L 31 49 L 31 48 z M 20 14 L 20 15 L 21 15 L 21 14 z M 23 11 L 23 12 L 24 12 L 24 11 z M 45 26 L 45 27 L 46 27 L 46 26 z M 26 20 L 26 21 L 27 21 L 27 20 z M 34 52 L 34 53 L 35 53 L 35 52 z M 41 38 L 41 39 L 42 39 L 42 38 z M 49 38 L 49 39 L 50 39 L 50 38 z M 39 24 L 39 25 L 40 25 L 40 24 z M 29 18 L 29 19 L 30 19 L 30 18 z M 8 10 L 8 11 L 9 11 L 9 10 z M 33 14 L 33 15 L 34 15 L 34 14 z M 23 16 L 23 17 L 24 17 L 24 16 z M 6 48 L 6 49 L 7 49 L 7 48 z M 45 35 L 45 36 L 46 36 L 46 35 z M 26 47 L 26 48 L 27 48 L 27 47 z M 13 42 L 13 43 L 14 43 L 14 42 z M 51 21 L 51 22 L 52 22 L 52 21 z M 38 42 L 38 43 L 39 43 L 39 42 z M 21 42 L 21 43 L 22 43 L 22 42 z M 41 47 L 41 48 L 42 48 L 42 47 z M 46 42 L 46 43 L 47 43 L 47 42 z M 27 12 L 27 13 L 28 13 L 28 12 z M 5 18 L 5 19 L 6 19 L 6 18 z M 8 17 L 8 18 L 9 18 L 9 17 z M 23 25 L 23 26 L 24 26 L 24 25 z M 6 43 L 6 44 L 7 44 L 7 43 z M 9 46 L 9 47 L 10 47 L 10 46 z M 51 34 L 51 35 L 52 35 L 52 34 z M 17 47 L 17 48 L 18 48 L 18 47 z M 39 6 L 39 7 L 40 7 L 40 6 z M 15 33 L 15 34 L 16 34 L 16 33 z M 33 32 L 33 33 L 34 33 L 34 32 z M 23 30 L 23 31 L 24 31 L 24 30 z M 45 13 L 45 14 L 46 14 L 46 13 z M 26 41 L 26 42 L 27 42 L 27 41 z M 9 23 L 9 24 L 10 24 L 10 23 z M 31 46 L 31 47 L 32 47 L 32 46 z M 51 43 L 51 44 L 52 44 L 52 43 z M 34 41 L 34 42 L 35 42 L 35 41 z M 46 44 L 46 45 L 47 45 L 47 44 z M 49 17 L 49 18 L 50 18 L 50 17 z M 36 18 L 36 19 L 37 19 L 37 18 z M 39 15 L 39 16 L 40 16 L 40 15 z M 15 22 L 15 23 L 16 23 L 16 22 z M 5 28 L 5 29 L 6 29 L 6 28 z M 23 39 L 23 40 L 24 40 L 24 39 z M 9 32 L 9 33 L 10 33 L 10 32 z M 51 48 L 51 49 L 52 49 L 52 48 z M 34 48 L 34 49 L 35 49 L 35 48 z M 21 13 L 21 14 L 22 14 L 22 13 z M 24 6 L 24 7 L 25 7 L 25 6 z M 49 10 L 49 11 L 50 11 L 50 10 z M 22 44 L 22 45 L 23 45 L 23 44 z M 18 8 L 18 9 L 19 9 L 19 8 z M 40 21 L 40 22 L 41 22 L 41 21 z M 30 15 L 30 16 L 31 16 L 31 15 z M 52 24 L 52 25 L 53 25 L 53 24 z M 23 44 L 23 45 L 24 45 L 24 44 z M 6 52 L 6 53 L 7 53 L 7 52 z M 34 27 L 34 28 L 35 28 L 35 27 z M 46 30 L 46 31 L 47 31 L 47 30 z M 27 48 L 27 49 L 28 49 L 28 48 z M 10 48 L 10 49 L 11 49 L 11 48 z M 14 39 L 14 40 L 15 40 L 15 39 z M 22 39 L 22 40 L 23 40 L 23 39 z M 42 42 L 42 43 L 43 43 L 43 42 z M 12 25 L 12 26 L 13 26 L 13 25 z M 15 4 L 15 5 L 16 5 L 16 4 z M 18 19 L 18 20 L 19 20 L 19 19 z M 40 28 L 40 29 L 41 29 L 41 28 z M 30 22 L 30 23 L 31 23 L 31 22 z M 52 15 L 52 16 L 53 16 L 53 15 z M 6 15 L 6 16 L 7 16 L 7 15 z M 9 18 L 9 19 L 10 19 L 10 18 z M 24 20 L 24 21 L 25 21 L 25 20 z M 46 9 L 46 10 L 47 10 L 47 9 z M 27 41 L 27 42 L 28 42 L 28 41 z M 14 46 L 14 47 L 15 47 L 15 46 z M 36 23 L 36 24 L 37 24 L 37 23 z M 22 30 L 22 31 L 23 31 L 23 30 z M 47 50 L 47 51 L 48 51 L 48 50 z M 52 6 L 52 7 L 53 7 L 53 6 z M 6 6 L 6 7 L 7 7 L 7 6 z M 24 35 L 24 36 L 25 36 L 25 35 z M 10 34 L 10 35 L 11 35 L 11 34 z M 32 51 L 32 52 L 33 52 L 33 51 z M 35 38 L 35 39 L 36 39 L 36 38 z M 47 43 L 47 44 L 48 44 L 48 43 z M 12 7 L 12 8 L 13 8 L 13 7 z M 40 18 L 40 19 L 41 19 L 41 18 z M 16 27 L 16 28 L 17 28 L 17 27 z M 34 12 L 34 13 L 35 13 L 35 12 z M 4 47 L 4 48 L 5 48 L 5 47 z M 24 42 L 24 43 L 25 43 L 25 42 z M 39 48 L 39 49 L 40 49 L 40 48 z M 25 5 L 25 6 L 26 6 L 26 5 z M 43 44 L 43 45 L 44 45 L 44 44 z M 52 52 L 52 53 L 53 53 L 53 52 z M 16 18 L 16 19 L 17 19 L 17 18 z M 19 7 L 19 8 L 20 8 L 20 7 z M 41 22 L 41 23 L 42 23 L 42 22 z M 10 12 L 10 13 L 11 13 L 11 12 z M 35 20 L 35 21 L 36 21 L 36 20 z M 44 44 L 44 45 L 45 45 L 45 44 z M 25 14 L 25 15 L 26 15 L 26 14 z M 47 25 L 47 26 L 48 26 L 48 25 z M 50 6 L 50 7 L 51 7 L 51 6 z M 37 35 L 37 36 L 38 36 L 38 35 z M 43 37 L 43 38 L 44 38 L 44 37 z M 48 48 L 48 49 L 49 49 L 49 48 z M 16 9 L 16 10 L 17 10 L 17 9 z M 28 4 L 28 5 L 29 5 L 29 4 z M 31 33 L 31 34 L 32 34 L 32 33 z M 7 24 L 7 25 L 8 25 L 8 24 z M 10 7 L 10 8 L 11 8 L 11 7 z M 47 14 L 47 15 L 48 15 L 48 14 z M 37 20 L 37 21 L 38 21 L 38 20 z M 20 44 L 20 45 L 21 45 L 21 44 z M 48 47 L 48 48 L 49 48 L 49 47 z M 19 21 L 19 22 L 20 22 L 20 21 z M 41 8 L 41 9 L 42 9 L 42 8 z M 31 22 L 31 23 L 32 23 L 32 22 z M 17 31 L 17 32 L 18 32 L 18 31 z M 4 52 L 4 53 L 5 53 L 5 52 z M 7 33 L 7 34 L 8 34 L 8 33 z M 29 44 L 29 45 L 30 45 L 30 44 z\" id=\"qr-path\" style=\"fill:#000000;fill-opacity:1;fill-rule:nonzero;stroke:none\" /></svg>\n    "
      }
     }
    },
    "version_major": 2,
    "version_minor": 0
   }
  }
 },
 "nbformat": 4,
 "nbformat_minor": 4
}
